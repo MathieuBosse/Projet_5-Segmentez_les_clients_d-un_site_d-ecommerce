{
 "cells": [
  {
   "cell_type": "code",
   "execution_count": 33,
   "metadata": {},
   "outputs": [],
   "source": [
    "import pandas as pd\n",
    "import sqlite3\n",
    "import seaborn as sns\n",
    "import matplotlib.pyplot as plt\n",
    "import seaborn as sns\n",
    "import numpy as np\n",
    "from scipy.stats import skew, kurtosis, ks_2samp\n",
    "from sklearn.metrics import adjusted_rand_score\n",
    "from datetime import datetime\n",
    "\n",
    "\n",
    "# Machine learning\n",
    "import sklearn\n",
    "from sklearn.cluster import KMeans\n",
    "from sklearn.metrics import silhouette_score\n",
    "from sklearn.preprocessing import StandardScaler\n",
    "from scipy.stats import skew, kurtosis\n",
    "from yellowbrick.cluster import SilhouetteVisualizer"
   ]
  },
  {
   "cell_type": "code",
   "execution_count": 34,
   "metadata": {},
   "outputs": [],
   "source": [
    "# Connexion à la base de données SQLite\n",
    "db_connection = sqlite3.connect('olist.db')"
   ]
  },
  {
   "cell_type": "code",
   "execution_count": 35,
   "metadata": {},
   "outputs": [],
   "source": [
    "def view_table(table, limit):\n",
    "    query = f\"\"\"\n",
    "        SELECT *\n",
    "        FROM {table}\n",
    "        LIMIT {limit}\n",
    "    \"\"\"\n",
    "    return pd.read_sql_query(query, db_connection)"
   ]
  },
  {
   "cell_type": "markdown",
   "metadata": {},
   "source": [
    "## Nombre de commandes"
   ]
  },
  {
   "cell_type": "markdown",
   "metadata": {},
   "source": [
    "La table des commandes contient les identifiants de la commande et du client ainsi que le statut de livraison, qui peut être \"livré\" ou prendre d'autres valeurs avant que la commande ne soit livrée."
   ]
  },
  {
   "cell_type": "code",
   "execution_count": 36,
   "metadata": {},
   "outputs": [
    {
     "data": {
      "text/html": [
       "<div>\n",
       "<style scoped>\n",
       "    .dataframe tbody tr th:only-of-type {\n",
       "        vertical-align: middle;\n",
       "    }\n",
       "\n",
       "    .dataframe tbody tr th {\n",
       "        vertical-align: top;\n",
       "    }\n",
       "\n",
       "    .dataframe thead th {\n",
       "        text-align: right;\n",
       "    }\n",
       "</style>\n",
       "<table border=\"1\" class=\"dataframe\">\n",
       "  <thead>\n",
       "    <tr style=\"text-align: right;\">\n",
       "      <th></th>\n",
       "      <th>index</th>\n",
       "      <th>order_id</th>\n",
       "      <th>customer_id</th>\n",
       "    </tr>\n",
       "  </thead>\n",
       "  <tbody>\n",
       "    <tr>\n",
       "      <th>0</th>\n",
       "      <td>0</td>\n",
       "      <td>e481f51cbdc54678b7cc49136f2d6af7</td>\n",
       "      <td>9ef432eb6251297304e76186b10a928d</td>\n",
       "    </tr>\n",
       "    <tr>\n",
       "      <th>1</th>\n",
       "      <td>1</td>\n",
       "      <td>53cdb2fc8bc7dce0b6741e2150273451</td>\n",
       "      <td>b0830fb4747a6c6d20dea0b8c802d7ef</td>\n",
       "    </tr>\n",
       "    <tr>\n",
       "      <th>2</th>\n",
       "      <td>2</td>\n",
       "      <td>47770eb9100c2d0c44946d9cf07ec65d</td>\n",
       "      <td>41ce2a54c0b03bf3443c3d931a367089</td>\n",
       "    </tr>\n",
       "    <tr>\n",
       "      <th>3</th>\n",
       "      <td>3</td>\n",
       "      <td>949d5b44dbf5de918fe9c16f97b45f8a</td>\n",
       "      <td>f88197465ea7920adcdbec7375364d82</td>\n",
       "    </tr>\n",
       "    <tr>\n",
       "      <th>4</th>\n",
       "      <td>4</td>\n",
       "      <td>ad21c59c0840e6cb83a9ceb5573f8159</td>\n",
       "      <td>8ab97904e6daea8866dbdbc4fb7aad2c</td>\n",
       "    </tr>\n",
       "  </tbody>\n",
       "</table>\n",
       "</div>"
      ],
      "text/plain": [
       "   index                          order_id                       customer_id\n",
       "0      0  e481f51cbdc54678b7cc49136f2d6af7  9ef432eb6251297304e76186b10a928d\n",
       "1      1  53cdb2fc8bc7dce0b6741e2150273451  b0830fb4747a6c6d20dea0b8c802d7ef\n",
       "2      2  47770eb9100c2d0c44946d9cf07ec65d  41ce2a54c0b03bf3443c3d931a367089\n",
       "3      3  949d5b44dbf5de918fe9c16f97b45f8a  f88197465ea7920adcdbec7375364d82\n",
       "4      4  ad21c59c0840e6cb83a9ceb5573f8159  8ab97904e6daea8866dbdbc4fb7aad2c"
      ]
     },
     "execution_count": 36,
     "metadata": {},
     "output_type": "execute_result"
    }
   ],
   "source": [
    "# Table orders, first 3 columns\n",
    "view_table('orders', 5).iloc[:, :3]"
   ]
  },
  {
   "cell_type": "markdown",
   "metadata": {},
   "source": [
    "Comptons le nombre de commandes quotidiennes dans l'ensemble de données en utilisant une commande SQL GROUP BY sur le timestamp de la commande et affichons les 5 premières lignes résultantes :\n"
   ]
  },
  {
   "cell_type": "code",
   "execution_count": 37,
   "metadata": {},
   "outputs": [
    {
     "data": {
      "text/html": [
       "<div>\n",
       "<style scoped>\n",
       "    .dataframe tbody tr th:only-of-type {\n",
       "        vertical-align: middle;\n",
       "    }\n",
       "\n",
       "    .dataframe tbody tr th {\n",
       "        vertical-align: top;\n",
       "    }\n",
       "\n",
       "    .dataframe thead th {\n",
       "        text-align: right;\n",
       "    }\n",
       "</style>\n",
       "<table border=\"1\" class=\"dataframe\">\n",
       "  <thead>\n",
       "    <tr style=\"text-align: right;\">\n",
       "      <th></th>\n",
       "      <th>day</th>\n",
       "      <th>order_count</th>\n",
       "    </tr>\n",
       "  </thead>\n",
       "  <tbody>\n",
       "    <tr>\n",
       "      <th>0</th>\n",
       "      <td>2016-09-04</td>\n",
       "      <td>1</td>\n",
       "    </tr>\n",
       "    <tr>\n",
       "      <th>1</th>\n",
       "      <td>2016-09-05</td>\n",
       "      <td>1</td>\n",
       "    </tr>\n",
       "    <tr>\n",
       "      <th>2</th>\n",
       "      <td>2016-09-13</td>\n",
       "      <td>1</td>\n",
       "    </tr>\n",
       "    <tr>\n",
       "      <th>3</th>\n",
       "      <td>2016-09-15</td>\n",
       "      <td>1</td>\n",
       "    </tr>\n",
       "    <tr>\n",
       "      <th>4</th>\n",
       "      <td>2016-10-02</td>\n",
       "      <td>1</td>\n",
       "    </tr>\n",
       "  </tbody>\n",
       "</table>\n",
       "</div>"
      ],
      "text/plain": [
       "          day  order_count\n",
       "0  2016-09-04            1\n",
       "1  2016-09-05            1\n",
       "2  2016-09-13            1\n",
       "3  2016-09-15            1\n",
       "4  2016-10-02            1"
      ]
     },
     "execution_count": 37,
     "metadata": {},
     "output_type": "execute_result"
    }
   ],
   "source": [
    "orders_per_day = \"\"\"\n",
    "SELECT\n",
    "    DATE(order_purchase_timestamp) AS day,\n",
    "    COUNT(*) AS order_count\n",
    "FROM orders\n",
    "GROUP BY day\n",
    "\"\"\"\n",
    "\n",
    "df = pd.read_sql_query(orders_per_day, db_connection)\n",
    "df.head(5)"
   ]
  },
  {
   "cell_type": "markdown",
   "metadata": {},
   "source": [
    "Dans l'output précédent, nous pouvons voir que les premiers jours contiennent très peu de commandes. Utilisons matplotlib pour visualiser la fréquence des commandes par jour :\n"
   ]
  },
  {
   "cell_type": "code",
   "execution_count": 38,
   "metadata": {},
   "outputs": [
    {
     "data": {
      "image/png": "[encoded data removed]",
      "text/plain": [
       "<Figure size 1400x600 with 1 Axes>"
      ]
     },
     "metadata": {},
     "output_type": "display_data"
    }
   ],
   "source": [
    "import matplotlib.pyplot as plt\n",
    "import matplotlib.dates as mdates\n",
    "\n",
    "# Augmenter la taille de la police\n",
    "plt.rcParams['font.size'] = 12\n",
    "plt.rcParams['axes.titlesize'] = 16\n",
    "\n",
    "# Line plot\n",
    "plt.figure(figsize=(14, 6))\n",
    "plt.plot(pd.to_datetime(df['day']), df['order_count'])\n",
    "plt.ylabel('Nombre de commandes')\n",
    "plt.title('Nombre de commandes par jour')\n",
    "plt.gca().xaxis.set_major_locator(mdates.MonthLocator())\n",
    "plt.xticks(rotation=45)\n",
    "plt.show()\n"
   ]
  },
  {
   "cell_type": "markdown",
   "metadata": {},
   "source": [
    "Quelles sont les villes avec le plus de commandes dans l'ensemble de données ? Construisons une requête pour les 10 villes les plus importantes et visualisons le résultat. POur ce faire, nous allons joindre la table des commandes à la table des clients :"
   ]
  },
  {
   "cell_type": "code",
   "execution_count": 39,
   "metadata": {},
   "outputs": [
    {
     "data": {
      "text/html": [
       "<div>\n",
       "<style scoped>\n",
       "    .dataframe tbody tr th:only-of-type {\n",
       "        vertical-align: middle;\n",
       "    }\n",
       "\n",
       "    .dataframe tbody tr th {\n",
       "        vertical-align: top;\n",
       "    }\n",
       "\n",
       "    .dataframe thead th {\n",
       "        text-align: right;\n",
       "    }\n",
       "</style>\n",
       "<table border=\"1\" class=\"dataframe\">\n",
       "  <thead>\n",
       "    <tr style=\"text-align: right;\">\n",
       "      <th></th>\n",
       "      <th>order_count</th>\n",
       "      <th>city</th>\n",
       "    </tr>\n",
       "  </thead>\n",
       "  <tbody>\n",
       "    <tr>\n",
       "      <th>0</th>\n",
       "      <td>15540</td>\n",
       "      <td>sao paulo</td>\n",
       "    </tr>\n",
       "    <tr>\n",
       "      <th>1</th>\n",
       "      <td>6882</td>\n",
       "      <td>rio de janeiro</td>\n",
       "    </tr>\n",
       "    <tr>\n",
       "      <th>2</th>\n",
       "      <td>2773</td>\n",
       "      <td>belo horizonte</td>\n",
       "    </tr>\n",
       "    <tr>\n",
       "      <th>3</th>\n",
       "      <td>2131</td>\n",
       "      <td>brasilia</td>\n",
       "    </tr>\n",
       "    <tr>\n",
       "      <th>4</th>\n",
       "      <td>1521</td>\n",
       "      <td>curitiba</td>\n",
       "    </tr>\n",
       "    <tr>\n",
       "      <th>5</th>\n",
       "      <td>1444</td>\n",
       "      <td>campinas</td>\n",
       "    </tr>\n",
       "    <tr>\n",
       "      <th>6</th>\n",
       "      <td>1379</td>\n",
       "      <td>porto alegre</td>\n",
       "    </tr>\n",
       "    <tr>\n",
       "      <th>7</th>\n",
       "      <td>1245</td>\n",
       "      <td>salvador</td>\n",
       "    </tr>\n",
       "    <tr>\n",
       "      <th>8</th>\n",
       "      <td>1189</td>\n",
       "      <td>guarulhos</td>\n",
       "    </tr>\n",
       "    <tr>\n",
       "      <th>9</th>\n",
       "      <td>938</td>\n",
       "      <td>sao bernardo do campo</td>\n",
       "    </tr>\n",
       "  </tbody>\n",
       "</table>\n",
       "</div>"
      ],
      "text/plain": [
       "   order_count                   city\n",
       "0        15540              sao paulo\n",
       "1         6882         rio de janeiro\n",
       "2         2773         belo horizonte\n",
       "3         2131               brasilia\n",
       "4         1521               curitiba\n",
       "5         1444               campinas\n",
       "6         1379           porto alegre\n",
       "7         1245               salvador\n",
       "8         1189              guarulhos\n",
       "9          938  sao bernardo do campo"
      ]
     },
     "execution_count": 39,
     "metadata": {},
     "output_type": "execute_result"
    }
   ],
   "source": [
    "orders_per_city = \"\"\"\n",
    "SELECT\n",
    "    COUNT(order_id) AS order_count,\n",
    "    customers.customer_city as city\n",
    "FROM \n",
    "    orders\n",
    "JOIN\n",
    "    customers on orders.customer_id = customers.customer_id\n",
    "GROUP BY\n",
    "    city\n",
    "ORDER BY\n",
    "    order_count DESC\n",
    "LIMIT 10\n",
    "\n",
    "\"\"\"\n",
    "\n",
    "df = pd.read_sql_query(orders_per_city, db_connection)\n",
    "df"
   ]
  },
  {
   "cell_type": "markdown",
   "metadata": {},
   "source": [
    "Traçons ces ville avec un graphique en barres horizontales. La fonction `barh` de matplotlib trace les données de bas en haut, donc nous devrons d'abord les inverser. Pour y parvenir en utilisant SQL, je vais utiliser la requête précédente comme sous-requête pour inverser l'ordre des résultats :\n"
   ]
  },
  {
   "cell_type": "code",
   "execution_count": 40,
   "metadata": {},
   "outputs": [],
   "source": [
    "orders_per_city_reversed = f\"\"\"\n",
    "SELECT *\n",
    "FROM ({orders_per_city})\n",
    "ORDER BY order_count\n",
    "\"\"\""
   ]
  },
  {
   "cell_type": "code",
   "execution_count": 41,
   "metadata": {},
   "outputs": [
    {
     "data": {
      "image/png": "[encoded data removed]",
      "text/plain": [
       "<Figure size 1000x600 with 1 Axes>"
      ]
     },
     "metadata": {},
     "output_type": "display_data"
    }
   ],
   "source": [
    "top_cities = pd.read_sql_query(orders_per_city_reversed, db_connection)\n",
    "\n",
    "plt.figure(figsize=(10, 6))\n",
    "plt.barh(top_cities['city'], top_cities['order_count'])\n",
    "plt.xlabel('Number of orders')\n",
    "plt.ylabel('City')\n",
    "plt.title('Top 10 cities by number of orders')\n",
    "plt.show()"
   ]
  },
  {
   "cell_type": "markdown",
   "metadata": {},
   "source": [
    "Comme nous pouvons le voir, beaucoup plus de commandes sont passées à São Paulo et Rio de Janeiro que dans d'autres villes, comme on pourrait s'y attendre puisque ce sont également les plus grandes villes du Brésil.\n"
   ]
  },
  {
   "cell_type": "markdown",
   "metadata": {},
   "source": [
    "Comment les commandes sont-elles réparties sur la semaine ? Y a-t-il plus de commandes passées le week-end ? Et en journée ? Les clients passent-ils plus de commandes le soir ? Nous pouvons répondre à ces questions en utilisant un diagramme à barres."
   ]
  },
  {
   "cell_type": "code",
   "execution_count": 42,
   "metadata": {},
   "outputs": [],
   "source": [
    "# Requête SQL pour regrouper les commandes par jour de la semaine\n",
    "orders_per_day_of_week = \"\"\"\n",
    "SELECT \n",
    "    CAST(strftime('%w', order_purchase_timestamp) AS INTEGER) AS day_of_week,\n",
    "    COUNT(order_id) AS order_count\n",
    "FROM \n",
    "    orders\n",
    "GROUP BY \n",
    "    day_of_week\n",
    "ORDER BY \n",
    "    day_of_week;\n",
    "\"\"\""
   ]
  },
  {
   "cell_type": "code",
   "execution_count": 43,
   "metadata": {},
   "outputs": [
    {
     "data": {
      "text/html": [
       "<div>\n",
       "<style scoped>\n",
       "    .dataframe tbody tr th:only-of-type {\n",
       "        vertical-align: middle;\n",
       "    }\n",
       "\n",
       "    .dataframe tbody tr th {\n",
       "        vertical-align: top;\n",
       "    }\n",
       "\n",
       "    .dataframe thead th {\n",
       "        text-align: right;\n",
       "    }\n",
       "</style>\n",
       "<table border=\"1\" class=\"dataframe\">\n",
       "  <thead>\n",
       "    <tr style=\"text-align: right;\">\n",
       "      <th></th>\n",
       "      <th>order_count</th>\n",
       "      <th>city</th>\n",
       "    </tr>\n",
       "  </thead>\n",
       "  <tbody>\n",
       "    <tr>\n",
       "      <th>0</th>\n",
       "      <td>15540</td>\n",
       "      <td>sao paulo</td>\n",
       "    </tr>\n",
       "    <tr>\n",
       "      <th>1</th>\n",
       "      <td>6882</td>\n",
       "      <td>rio de janeiro</td>\n",
       "    </tr>\n",
       "    <tr>\n",
       "      <th>2</th>\n",
       "      <td>2773</td>\n",
       "      <td>belo horizonte</td>\n",
       "    </tr>\n",
       "    <tr>\n",
       "      <th>3</th>\n",
       "      <td>2131</td>\n",
       "      <td>brasilia</td>\n",
       "    </tr>\n",
       "    <tr>\n",
       "      <th>4</th>\n",
       "      <td>1521</td>\n",
       "      <td>curitiba</td>\n",
       "    </tr>\n",
       "    <tr>\n",
       "      <th>5</th>\n",
       "      <td>1444</td>\n",
       "      <td>campinas</td>\n",
       "    </tr>\n",
       "    <tr>\n",
       "      <th>6</th>\n",
       "      <td>1379</td>\n",
       "      <td>porto alegre</td>\n",
       "    </tr>\n",
       "    <tr>\n",
       "      <th>7</th>\n",
       "      <td>1245</td>\n",
       "      <td>salvador</td>\n",
       "    </tr>\n",
       "    <tr>\n",
       "      <th>8</th>\n",
       "      <td>1189</td>\n",
       "      <td>guarulhos</td>\n",
       "    </tr>\n",
       "    <tr>\n",
       "      <th>9</th>\n",
       "      <td>938</td>\n",
       "      <td>sao bernardo do campo</td>\n",
       "    </tr>\n",
       "  </tbody>\n",
       "</table>\n",
       "</div>"
      ],
      "text/plain": [
       "   order_count                   city\n",
       "0        15540              sao paulo\n",
       "1         6882         rio de janeiro\n",
       "2         2773         belo horizonte\n",
       "3         2131               brasilia\n",
       "4         1521               curitiba\n",
       "5         1444               campinas\n",
       "6         1379           porto alegre\n",
       "7         1245               salvador\n",
       "8         1189              guarulhos\n",
       "9          938  sao bernardo do campo"
      ]
     },
     "execution_count": 43,
     "metadata": {},
     "output_type": "execute_result"
    }
   ],
   "source": [
    "df"
   ]
  },
  {
   "cell_type": "code",
   "execution_count": 44,
   "metadata": {},
   "outputs": [
    {
     "data": {
      "image/png": "[encoded data removed]",
      "text/plain": [
       "<Figure size 1000x600 with 1 Axes>"
      ]
     },
     "metadata": {},
     "output_type": "display_data"
    }
   ],
   "source": [
    "df = pd.read_sql_query(orders_per_day_of_week, db_connection)\n",
    "df['day_of_week'] = df['day_of_week'].replace(0, 7)\n",
    "df = df.sort_values(by=[\"day_of_week\"])\n",
    "\n",
    "# Associez l'entier du jour de la semaine aux noms de jour réels\n",
    "day_names = ['Lundi', 'Mardi', 'Mercredi', 'Jeudi', 'Vendredi', 'Samedi', 'Dimanche']\n",
    "\n",
    "\n",
    "# Tracé du graphique\n",
    "plt.figure(figsize=(10, 6))\n",
    "plt.bar(df['day_of_week'].map(lambda x: day_names[int(x)-1]), df['order_count'])\n",
    "plt.xlabel('Jour de la semaine')\n",
    "plt.ylabel('Nombre de commandes')\n",
    "plt.title('Nombre de commandes par jour de la semaine')\n",
    "plt.show()"
   ]
  },
  {
   "cell_type": "markdown",
   "metadata": {},
   "source": [
    "Le graphique représente le nombre de commandes par jour de la semaine. Voici l'interprétation des résultats observés:\n",
    "\n",
    "1. **Lundi**: Le lundi enregistre le plus grand nombre de commandes de toute la semaine. Cela pourrait être dû au fait que les clients planifient et passent leurs commandes pour la semaine à venir après le week-end.\n",
    "\n",
    "2. **Mardi à samedi**: Le nombre de commandes diminue régulièrement du mardi au samedi. Cela pourrait indiquer que les clients passent moins de commandes à mesure que la semaine avance, probablement parce qu'ils ont déjà effectué leurs principaux achats au début de la semaine.\n",
    "\n",
    "3. **Dimanche**: Il y a une légère hausse du nombre de commandes le dimanche comparé au samedi. Cette augmentation pourrait être due à des achats de dernière minute ou à des préparations pour la semaine suivante."
   ]
  },
  {
   "cell_type": "markdown",
   "metadata": {},
   "source": [
    "## Prix des commandes"
   ]
  },
  {
   "cell_type": "markdown",
   "metadata": {},
   "source": [
    "Quelle est la valeur moyenne d'une commande ? Olist gère-t-il des transactions d'articles de très faible ou de très haute valeur ? Avant de tenter de répondre à ces questions, examinons la table `order_items`. Cette table contient divers identifiants ainsi que le prix et le coût d'expédition des articles de la commande. La devise est le real brésilien :"
   ]
  },
  {
   "cell_type": "code",
   "execution_count": 45,
   "metadata": {},
   "outputs": [
    {
     "data": {
      "text/html": [
       "<div>\n",
       "<style scoped>\n",
       "    .dataframe tbody tr th:only-of-type {\n",
       "        vertical-align: middle;\n",
       "    }\n",
       "\n",
       "    .dataframe tbody tr th {\n",
       "        vertical-align: top;\n",
       "    }\n",
       "\n",
       "    .dataframe thead th {\n",
       "        text-align: right;\n",
       "    }\n",
       "</style>\n",
       "<table border=\"1\" class=\"dataframe\">\n",
       "  <thead>\n",
       "    <tr style=\"text-align: right;\">\n",
       "      <th></th>\n",
       "      <th>index</th>\n",
       "      <th>order_id</th>\n",
       "      <th>order_item_id</th>\n",
       "      <th>product_id</th>\n",
       "    </tr>\n",
       "  </thead>\n",
       "  <tbody>\n",
       "    <tr>\n",
       "      <th>0</th>\n",
       "      <td>0</td>\n",
       "      <td>00010242fe8c5a6d1ba2dd792cb16214</td>\n",
       "      <td>1</td>\n",
       "      <td>4244733e06e7ecb4970a6e2683c13e61</td>\n",
       "    </tr>\n",
       "    <tr>\n",
       "      <th>1</th>\n",
       "      <td>1</td>\n",
       "      <td>00018f77f2f0320c557190d7a144bdd3</td>\n",
       "      <td>1</td>\n",
       "      <td>e5f2d52b802189ee658865ca93d83a8f</td>\n",
       "    </tr>\n",
       "    <tr>\n",
       "      <th>2</th>\n",
       "      <td>2</td>\n",
       "      <td>000229ec398224ef6ca0657da4fc703e</td>\n",
       "      <td>1</td>\n",
       "      <td>c777355d18b72b67abbeef9df44fd0fd</td>\n",
       "    </tr>\n",
       "    <tr>\n",
       "      <th>3</th>\n",
       "      <td>3</td>\n",
       "      <td>00024acbcdf0a6daa1e931b038114c75</td>\n",
       "      <td>1</td>\n",
       "      <td>7634da152a4610f1595efa32f14722fc</td>\n",
       "    </tr>\n",
       "    <tr>\n",
       "      <th>4</th>\n",
       "      <td>4</td>\n",
       "      <td>00042b26cf59d7ce69dfabb4e55b4fd9</td>\n",
       "      <td>1</td>\n",
       "      <td>ac6c3623068f30de03045865e4e10089</td>\n",
       "    </tr>\n",
       "  </tbody>\n",
       "</table>\n",
       "</div>"
      ],
      "text/plain": [
       "   index                          order_id  order_item_id  \\\n",
       "0      0  00010242fe8c5a6d1ba2dd792cb16214              1   \n",
       "1      1  00018f77f2f0320c557190d7a144bdd3              1   \n",
       "2      2  000229ec398224ef6ca0657da4fc703e              1   \n",
       "3      3  00024acbcdf0a6daa1e931b038114c75              1   \n",
       "4      4  00042b26cf59d7ce69dfabb4e55b4fd9              1   \n",
       "\n",
       "                         product_id  \n",
       "0  4244733e06e7ecb4970a6e2683c13e61  \n",
       "1  e5f2d52b802189ee658865ca93d83a8f  \n",
       "2  c777355d18b72b67abbeef9df44fd0fd  \n",
       "3  7634da152a4610f1595efa32f14722fc  \n",
       "4  ac6c3623068f30de03045865e4e10089  "
      ]
     },
     "execution_count": 45,
     "metadata": {},
     "output_type": "execute_result"
    }
   ],
   "source": [
    "# Table order_items, first 4 columns\n",
    "view_table('order_items', 5).iloc[:, :4]"
   ]
  },
  {
   "cell_type": "code",
   "execution_count": 46,
   "metadata": {},
   "outputs": [
    {
     "data": {
      "text/html": [
       "<div>\n",
       "<style scoped>\n",
       "    .dataframe tbody tr th:only-of-type {\n",
       "        vertical-align: middle;\n",
       "    }\n",
       "\n",
       "    .dataframe tbody tr th {\n",
       "        vertical-align: top;\n",
       "    }\n",
       "\n",
       "    .dataframe thead th {\n",
       "        text-align: right;\n",
       "    }\n",
       "</style>\n",
       "<table border=\"1\" class=\"dataframe\">\n",
       "  <thead>\n",
       "    <tr style=\"text-align: right;\">\n",
       "      <th></th>\n",
       "      <th>shipping_limit_date</th>\n",
       "      <th>price</th>\n",
       "      <th>freight_value</th>\n",
       "    </tr>\n",
       "  </thead>\n",
       "  <tbody>\n",
       "    <tr>\n",
       "      <th>0</th>\n",
       "      <td>2017-09-19 09:45:35</td>\n",
       "      <td>58.90</td>\n",
       "      <td>13.29</td>\n",
       "    </tr>\n",
       "    <tr>\n",
       "      <th>1</th>\n",
       "      <td>2017-05-03 11:05:13</td>\n",
       "      <td>239.90</td>\n",
       "      <td>19.93</td>\n",
       "    </tr>\n",
       "    <tr>\n",
       "      <th>2</th>\n",
       "      <td>2018-01-18 14:48:30</td>\n",
       "      <td>199.00</td>\n",
       "      <td>17.87</td>\n",
       "    </tr>\n",
       "    <tr>\n",
       "      <th>3</th>\n",
       "      <td>2018-08-15 10:10:18</td>\n",
       "      <td>12.99</td>\n",
       "      <td>12.79</td>\n",
       "    </tr>\n",
       "    <tr>\n",
       "      <th>4</th>\n",
       "      <td>2017-02-13 13:57:51</td>\n",
       "      <td>199.90</td>\n",
       "      <td>18.14</td>\n",
       "    </tr>\n",
       "  </tbody>\n",
       "</table>\n",
       "</div>"
      ],
      "text/plain": [
       "   shipping_limit_date   price  freight_value\n",
       "0  2017-09-19 09:45:35   58.90          13.29\n",
       "1  2017-05-03 11:05:13  239.90          19.93\n",
       "2  2018-01-18 14:48:30  199.00          17.87\n",
       "3  2018-08-15 10:10:18   12.99          12.79\n",
       "4  2017-02-13 13:57:51  199.90          18.14"
      ]
     },
     "execution_count": 46,
     "metadata": {},
     "output_type": "execute_result"
    }
   ],
   "source": [
    "# Table order_items, last 2 columns\n",
    "view_table('order_items', 5).iloc[:, 5:]"
   ]
  },
  {
   "cell_type": "markdown",
   "metadata": {},
   "source": [
    "Répondons d'abord à notre première question : Quel est le prix moyen d'une commande, en considérant à la fois le coût des produits et celui de l'expédition ? Pour commencer, trouvons les commandes avec les coûts les plus bas et les plus élevés :"
   ]
  },
  {
   "cell_type": "code",
   "execution_count": 47,
   "metadata": {},
   "outputs": [
    {
     "data": {
      "text/html": [
       "<div>\n",
       "<style scoped>\n",
       "    .dataframe tbody tr th:only-of-type {\n",
       "        vertical-align: middle;\n",
       "    }\n",
       "\n",
       "    .dataframe tbody tr th {\n",
       "        vertical-align: top;\n",
       "    }\n",
       "\n",
       "    .dataframe thead th {\n",
       "        text-align: right;\n",
       "    }\n",
       "</style>\n",
       "<table border=\"1\" class=\"dataframe\">\n",
       "  <thead>\n",
       "    <tr style=\"text-align: right;\">\n",
       "      <th></th>\n",
       "      <th>min_order_price</th>\n",
       "      <th>avg_order_price</th>\n",
       "      <th>max_order_price</th>\n",
       "    </tr>\n",
       "  </thead>\n",
       "  <tbody>\n",
       "    <tr>\n",
       "      <th>0</th>\n",
       "      <td>9.59</td>\n",
       "      <td>160.58</td>\n",
       "      <td>13664.08</td>\n",
       "    </tr>\n",
       "  </tbody>\n",
       "</table>\n",
       "</div>"
      ],
      "text/plain": [
       "   min_order_price  avg_order_price  max_order_price\n",
       "0             9.59           160.58         13664.08"
      ]
     },
     "execution_count": 47,
     "metadata": {},
     "output_type": "execute_result"
    }
   ],
   "source": [
    "order_price_stats = \"\"\"\n",
    "SELECT\n",
    "    MIN(order_price) AS min_order_price,\n",
    "    ROUND(AVG(order_price), 2) AS avg_order_price,\n",
    "    MAX(order_price) AS max_order_price\n",
    "FROM (\n",
    "    SELECT\n",
    "        orders.order_id,\n",
    "        SUM(order_items.price + order_items.freight_value) AS order_price\n",
    "    FROM orders\n",
    "        JOIN order_items USING (order_id)\n",
    "    GROUP BY orders.order_id\n",
    ")\n",
    "\"\"\"\n",
    "\n",
    "pd.read_sql_query(order_price_stats, db_connection)"
   ]
  },
  {
   "cell_type": "markdown",
   "metadata": {},
   "source": [
    "Le prix moyen d'une commande est de 160,58 BRL, ce qui correspond environ au coût d'une paire de chaussures de sport en 2017 au Brésil. Comme nous pouvons le voir, la commande la plus chère est de 13 664,08 BRL, soit presque 100 fois la moyenne, ce qui signifie que nous avons probablement une distribution asymétrique à droite, où la plupart des commandes ont un coût faible mais certaines commandes ont un coût très élevé. Voyons la variation des prix, cette fois en séparant le coût des produits et le coût de l'expédition. Pour commencer, agrégeons le coût des produits et le coût de l'expédition pour chaque commande :"
   ]
  },
  {
   "cell_type": "code",
   "execution_count": 48,
   "metadata": {},
   "outputs": [
    {
     "data": {
      "text/html": [
       "<div>\n",
       "<style scoped>\n",
       "    .dataframe tbody tr th:only-of-type {\n",
       "        vertical-align: middle;\n",
       "    }\n",
       "\n",
       "    .dataframe tbody tr th {\n",
       "        vertical-align: top;\n",
       "    }\n",
       "\n",
       "    .dataframe thead th {\n",
       "        text-align: right;\n",
       "    }\n",
       "</style>\n",
       "<table border=\"1\" class=\"dataframe\">\n",
       "  <thead>\n",
       "    <tr style=\"text-align: right;\">\n",
       "      <th></th>\n",
       "      <th>order_id</th>\n",
       "      <th>product_cost</th>\n",
       "      <th>shipping_cost</th>\n",
       "    </tr>\n",
       "  </thead>\n",
       "  <tbody>\n",
       "    <tr>\n",
       "      <th>0</th>\n",
       "      <td>00010242fe8c5a6d1ba2dd792cb16214</td>\n",
       "      <td>58.90</td>\n",
       "      <td>13.29</td>\n",
       "    </tr>\n",
       "    <tr>\n",
       "      <th>1</th>\n",
       "      <td>00018f77f2f0320c557190d7a144bdd3</td>\n",
       "      <td>239.90</td>\n",
       "      <td>19.93</td>\n",
       "    </tr>\n",
       "    <tr>\n",
       "      <th>2</th>\n",
       "      <td>000229ec398224ef6ca0657da4fc703e</td>\n",
       "      <td>199.00</td>\n",
       "      <td>17.87</td>\n",
       "    </tr>\n",
       "    <tr>\n",
       "      <th>3</th>\n",
       "      <td>00024acbcdf0a6daa1e931b038114c75</td>\n",
       "      <td>12.99</td>\n",
       "      <td>12.79</td>\n",
       "    </tr>\n",
       "    <tr>\n",
       "      <th>4</th>\n",
       "      <td>00042b26cf59d7ce69dfabb4e55b4fd9</td>\n",
       "      <td>199.90</td>\n",
       "      <td>18.14</td>\n",
       "    </tr>\n",
       "    <tr>\n",
       "      <th>...</th>\n",
       "      <td>...</td>\n",
       "      <td>...</td>\n",
       "      <td>...</td>\n",
       "    </tr>\n",
       "    <tr>\n",
       "      <th>96473</th>\n",
       "      <td>fffc94f6ce00a00581880bf54a75a037</td>\n",
       "      <td>299.99</td>\n",
       "      <td>43.41</td>\n",
       "    </tr>\n",
       "    <tr>\n",
       "      <th>96474</th>\n",
       "      <td>fffcd46ef2263f404302a634eb57f7eb</td>\n",
       "      <td>350.00</td>\n",
       "      <td>36.53</td>\n",
       "    </tr>\n",
       "    <tr>\n",
       "      <th>96475</th>\n",
       "      <td>fffce4705a9662cd70adb13d4a31832d</td>\n",
       "      <td>99.90</td>\n",
       "      <td>16.95</td>\n",
       "    </tr>\n",
       "    <tr>\n",
       "      <th>96476</th>\n",
       "      <td>fffe18544ffabc95dfada21779c9644f</td>\n",
       "      <td>55.99</td>\n",
       "      <td>8.72</td>\n",
       "    </tr>\n",
       "    <tr>\n",
       "      <th>96477</th>\n",
       "      <td>fffe41c64501cc87c801fd61db3f6244</td>\n",
       "      <td>43.00</td>\n",
       "      <td>12.79</td>\n",
       "    </tr>\n",
       "  </tbody>\n",
       "</table>\n",
       "<p>96478 rows × 3 columns</p>\n",
       "</div>"
      ],
      "text/plain": [
       "                               order_id  product_cost  shipping_cost\n",
       "0      00010242fe8c5a6d1ba2dd792cb16214         58.90          13.29\n",
       "1      00018f77f2f0320c557190d7a144bdd3        239.90          19.93\n",
       "2      000229ec398224ef6ca0657da4fc703e        199.00          17.87\n",
       "3      00024acbcdf0a6daa1e931b038114c75         12.99          12.79\n",
       "4      00042b26cf59d7ce69dfabb4e55b4fd9        199.90          18.14\n",
       "...                                 ...           ...            ...\n",
       "96473  fffc94f6ce00a00581880bf54a75a037        299.99          43.41\n",
       "96474  fffcd46ef2263f404302a634eb57f7eb        350.00          36.53\n",
       "96475  fffce4705a9662cd70adb13d4a31832d         99.90          16.95\n",
       "96476  fffe18544ffabc95dfada21779c9644f         55.99           8.72\n",
       "96477  fffe41c64501cc87c801fd61db3f6244         43.00          12.79\n",
       "\n",
       "[96478 rows x 3 columns]"
      ]
     },
     "execution_count": 48,
     "metadata": {},
     "output_type": "execute_result"
    }
   ],
   "source": [
    "order_product_and_shipping_costs = \"\"\"\n",
    "SELECT\n",
    "    orders.order_id,\n",
    "    SUM(price) AS product_cost,\n",
    "    SUM(freight_value) AS shipping_cost\n",
    "FROM\n",
    "    orders\n",
    "    JOIN order_items USING (order_id)\n",
    "WHERE order_status = 'delivered'\n",
    "GROUP BY orders.order_id\n",
    "\"\"\"\n",
    "\n",
    "df = pd.read_sql_query(order_product_and_shipping_costs, db_connection)\n",
    "df"
   ]
  },
  {
   "cell_type": "markdown",
   "metadata": {},
   "source": [
    "Traçons un histogramme de chaque coût. Étant donné que le coût peut prendre une large gamme de valeurs mais que la plupart des commandes ont un coût faible, je limiterai les axes x de chaque graphique à 500 reals et 80 reals respectivement pour mettre en évidence la distribution des valeurs les plus courantes :"
   ]
  },
  {
   "cell_type": "code",
   "execution_count": 49,
   "metadata": {},
   "outputs": [
    {
     "data": {
      "image/png": "[encoded data removed]",
      "text/plain": [
       "<Figure size 1500x600 with 2 Axes>"
      ]
     },
     "metadata": {},
     "output_type": "display_data"
    }
   ],
   "source": [
    "plt.figure(figsize=(15, 6))\n",
    "# Histogram for total product cost\n",
    "plt.subplot(1, 2, 1)\n",
    "plt.hist(df['product_cost'], bins=1000, color='#6c87a3')\n",
    "plt.title('Product cost for orders < R$500')\n",
    "plt.xlabel('Product cost (Brazilian reals)')\n",
    "plt.ylabel('Frequency')\n",
    "plt.xlim([0, 500])\n",
    "# Histogram for total shipping cost\n",
    "plt.subplot(1, 2, 2)\n",
    "plt.hist(df['shipping_cost'], bins=800, color='#ad865f')\n",
    "plt.title('Shipping cost for orders < R$80')\n",
    "plt.xlabel('Product cost (Brazilian reals)')\n",
    "plt.xlim([0, 80])\n",
    "plt.show()"
   ]
  },
  {
   "cell_type": "markdown",
   "metadata": {},
   "source": [
    "La valeur des produits dans une commande peut varier considérablement, allant de très faible à très élevée, bien que la plupart des commandes contiennent des produits dont le coût total est inférieur à 200 reals.\n",
    "\n",
    "Le coût de livraison est généralement compris entre 7 et 20 reals, et rarement en dessous, mais il peut également prendre une large gamme de valeurs beaucoup plus élevées."
   ]
  },
  {
   "cell_type": "markdown",
   "metadata": {},
   "source": [
    "## Notes des commandes"
   ]
  },
  {
   "cell_type": "markdown",
   "metadata": {},
   "source": [
    "Notre base de données comprend également une table \"order_reviews\". Les utilisateurs peuvent attribuer une note à une commande de 1 à 5 et rédiger un commentaire sur la commande. Voyons les colonnes que nous utiliserons dans notre analyse :"
   ]
  },
  {
   "cell_type": "code",
   "execution_count": 50,
   "metadata": {},
   "outputs": [
    {
     "data": {
      "text/html": [
       "<div>\n",
       "<style scoped>\n",
       "    .dataframe tbody tr th:only-of-type {\n",
       "        vertical-align: middle;\n",
       "    }\n",
       "\n",
       "    .dataframe tbody tr th {\n",
       "        vertical-align: top;\n",
       "    }\n",
       "\n",
       "    .dataframe thead th {\n",
       "        text-align: right;\n",
       "    }\n",
       "</style>\n",
       "<table border=\"1\" class=\"dataframe\">\n",
       "  <thead>\n",
       "    <tr style=\"text-align: right;\">\n",
       "      <th></th>\n",
       "      <th>order_id</th>\n",
       "      <th>review_score</th>\n",
       "      <th>review_comment_title</th>\n",
       "    </tr>\n",
       "  </thead>\n",
       "  <tbody>\n",
       "    <tr>\n",
       "      <th>0</th>\n",
       "      <td>73fc7af87114b39712e6da79b0a377eb</td>\n",
       "      <td>4</td>\n",
       "      <td>None</td>\n",
       "    </tr>\n",
       "    <tr>\n",
       "      <th>1</th>\n",
       "      <td>a548910a1c6147796b98fdf73dbeba33</td>\n",
       "      <td>5</td>\n",
       "      <td>None</td>\n",
       "    </tr>\n",
       "    <tr>\n",
       "      <th>2</th>\n",
       "      <td>f9e4b658b201a9f2ecdecbb34bed034b</td>\n",
       "      <td>5</td>\n",
       "      <td>None</td>\n",
       "    </tr>\n",
       "    <tr>\n",
       "      <th>3</th>\n",
       "      <td>658677c97b385a9be170737859d3511b</td>\n",
       "      <td>5</td>\n",
       "      <td>None</td>\n",
       "    </tr>\n",
       "    <tr>\n",
       "      <th>4</th>\n",
       "      <td>8e6bfb81e283fa7e4f11123a3fb894f1</td>\n",
       "      <td>5</td>\n",
       "      <td>None</td>\n",
       "    </tr>\n",
       "  </tbody>\n",
       "</table>\n",
       "</div>"
      ],
      "text/plain": [
       "                           order_id  review_score review_comment_title\n",
       "0  73fc7af87114b39712e6da79b0a377eb             4                 None\n",
       "1  a548910a1c6147796b98fdf73dbeba33             5                 None\n",
       "2  f9e4b658b201a9f2ecdecbb34bed034b             5                 None\n",
       "3  658677c97b385a9be170737859d3511b             5                 None\n",
       "4  8e6bfb81e283fa7e4f11123a3fb894f1             5                 None"
      ]
     },
     "execution_count": 50,
     "metadata": {},
     "output_type": "execute_result"
    }
   ],
   "source": [
    "view_table('order_reviews', 5).iloc[:, [2, 3, 4]]"
   ]
  },
  {
   "cell_type": "markdown",
   "metadata": {},
   "source": [
    "Comptons combien il y a de commandes pour chaque score :"
   ]
  },
  {
   "cell_type": "code",
   "execution_count": 51,
   "metadata": {},
   "outputs": [
    {
     "data": {
      "text/html": [
       "<div>\n",
       "<style scoped>\n",
       "    .dataframe tbody tr th:only-of-type {\n",
       "        vertical-align: middle;\n",
       "    }\n",
       "\n",
       "    .dataframe tbody tr th {\n",
       "        vertical-align: top;\n",
       "    }\n",
       "\n",
       "    .dataframe thead th {\n",
       "        text-align: right;\n",
       "    }\n",
       "</style>\n",
       "<table border=\"1\" class=\"dataframe\">\n",
       "  <thead>\n",
       "    <tr style=\"text-align: right;\">\n",
       "      <th></th>\n",
       "      <th>review_score</th>\n",
       "      <th>count</th>\n",
       "    </tr>\n",
       "  </thead>\n",
       "  <tbody>\n",
       "    <tr>\n",
       "      <th>0</th>\n",
       "      <td>1</td>\n",
       "      <td>11424</td>\n",
       "    </tr>\n",
       "    <tr>\n",
       "      <th>1</th>\n",
       "      <td>2</td>\n",
       "      <td>3151</td>\n",
       "    </tr>\n",
       "    <tr>\n",
       "      <th>2</th>\n",
       "      <td>3</td>\n",
       "      <td>8179</td>\n",
       "    </tr>\n",
       "    <tr>\n",
       "      <th>3</th>\n",
       "      <td>4</td>\n",
       "      <td>19142</td>\n",
       "    </tr>\n",
       "    <tr>\n",
       "      <th>4</th>\n",
       "      <td>5</td>\n",
       "      <td>57328</td>\n",
       "    </tr>\n",
       "  </tbody>\n",
       "</table>\n",
       "</div>"
      ],
      "text/plain": [
       "   review_score  count\n",
       "0             1  11424\n",
       "1             2   3151\n",
       "2             3   8179\n",
       "3             4  19142\n",
       "4             5  57328"
      ]
     },
     "execution_count": 51,
     "metadata": {},
     "output_type": "execute_result"
    }
   ],
   "source": [
    "review_score_count = \"\"\"\n",
    "SELECT\n",
    "    review_score,\n",
    "    COUNT(*) AS count\n",
    "FROM order_reviews\n",
    "GROUP BY review_score\n",
    "\"\"\"\n",
    "df = pd.read_sql_query(review_score_count, db_connection)\n",
    "df"
   ]
  },
  {
   "cell_type": "code",
   "execution_count": 52,
   "metadata": {},
   "outputs": [
    {
     "data": {
      "image/png": "[encoded data removed]",
      "text/plain": [
       "<Figure size 1000x600 with 1 Axes>"
      ]
     },
     "metadata": {},
     "output_type": "display_data"
    }
   ],
   "source": [
    "plt.figure(figsize=(10,6))\n",
    "colors = ['#BC2023', '#EB442C', '#F8B324', '#6da814', '#0C6B37']\n",
    "sns.barplot(x='review_score', y='count', data=df, hue='review_score', palette=colors, dodge=False)\n",
    "plt.title('Distribution of review scores')\n",
    "plt.xlabel('Review score')\n",
    "plt.ylabel('Count')\n",
    "plt.legend().remove()\n",
    "plt.tight_layout()\n",
    "plt.show()"
   ]
  },
  {
   "cell_type": "markdown",
   "metadata": {},
   "source": [
    "Nous pouvons voir que la plupart des scores de révision sont très positifs, mais il y a aussi un nombre considérable de clients insatisfaits."
   ]
  },
  {
   "cell_type": "markdown",
   "metadata": {},
   "source": [
    "## Préparation des données pour le clustering"
   ]
  },
  {
   "cell_type": "markdown",
   "metadata": {},
   "source": [
    "### Introduction"
   ]
  },
  {
   "cell_type": "markdown",
   "metadata": {},
   "source": [
    "Dans cette analyse, nous allons lire les données de différentes tables provenant de notre base de données. Ces tables contiennent des informations sur les produits, les commandes, les articles de commande, les paiements de commande, les clients, les vendeurs et les avis de commande. Nous commencerons par charger ces tables dans des DataFrames."
   ]
  },
  {
   "cell_type": "code",
   "execution_count": 53,
   "metadata": {},
   "outputs": [],
   "source": [
    "tables = ['products', 'orders', 'order_items', 'order_pymts', 'customers', 'sellers', 'order_reviews']"
   ]
  },
  {
   "cell_type": "markdown",
   "metadata": {},
   "source": [
    "### Lecture et affichage des premières lignes de chaque table"
   ]
  },
  {
   "cell_type": "markdown",
   "metadata": {},
   "source": [
    "Nous lisons chaque table de la base de données dans un DataFrame et affichons les premières lignes pour vérifier la structure des données."
   ]
  },
  {
   "cell_type": "code",
   "execution_count": 54,
   "metadata": {},
   "outputs": [
    {
     "name": "stdout",
     "output_type": "stream",
     "text": [
      "Products DataFrame\n"
     ]
    },
    {
     "data": {
      "text/html": [
       "<div>\n",
       "<style scoped>\n",
       "    .dataframe tbody tr th:only-of-type {\n",
       "        vertical-align: middle;\n",
       "    }\n",
       "\n",
       "    .dataframe tbody tr th {\n",
       "        vertical-align: top;\n",
       "    }\n",
       "\n",
       "    .dataframe thead th {\n",
       "        text-align: right;\n",
       "    }\n",
       "</style>\n",
       "<table border=\"1\" class=\"dataframe\">\n",
       "  <thead>\n",
       "    <tr style=\"text-align: right;\">\n",
       "      <th></th>\n",
       "      <th>index</th>\n",
       "      <th>product_id</th>\n",
       "      <th>product_category_name</th>\n",
       "      <th>product_name_lenght</th>\n",
       "      <th>product_description_lenght</th>\n",
       "      <th>product_photos_qty</th>\n",
       "      <th>product_weight_g</th>\n",
       "      <th>product_length_cm</th>\n",
       "      <th>product_height_cm</th>\n",
       "      <th>product_width_cm</th>\n",
       "    </tr>\n",
       "  </thead>\n",
       "  <tbody>\n",
       "    <tr>\n",
       "      <th>0</th>\n",
       "      <td>0</td>\n",
       "      <td>1e9e8ef04dbcff4541ed26657ea517e5</td>\n",
       "      <td>perfumaria</td>\n",
       "      <td>40.0</td>\n",
       "      <td>287.0</td>\n",
       "      <td>1.0</td>\n",
       "      <td>225.0</td>\n",
       "      <td>16.0</td>\n",
       "      <td>10.0</td>\n",
       "      <td>14.0</td>\n",
       "    </tr>\n",
       "    <tr>\n",
       "      <th>1</th>\n",
       "      <td>1</td>\n",
       "      <td>3aa071139cb16b67ca9e5dea641aaa2f</td>\n",
       "      <td>artes</td>\n",
       "      <td>44.0</td>\n",
       "      <td>276.0</td>\n",
       "      <td>1.0</td>\n",
       "      <td>1000.0</td>\n",
       "      <td>30.0</td>\n",
       "      <td>18.0</td>\n",
       "      <td>20.0</td>\n",
       "    </tr>\n",
       "    <tr>\n",
       "      <th>2</th>\n",
       "      <td>2</td>\n",
       "      <td>96bd76ec8810374ed1b65e291975717f</td>\n",
       "      <td>esporte_lazer</td>\n",
       "      <td>46.0</td>\n",
       "      <td>250.0</td>\n",
       "      <td>1.0</td>\n",
       "      <td>154.0</td>\n",
       "      <td>18.0</td>\n",
       "      <td>9.0</td>\n",
       "      <td>15.0</td>\n",
       "    </tr>\n",
       "    <tr>\n",
       "      <th>3</th>\n",
       "      <td>3</td>\n",
       "      <td>cef67bcfe19066a932b7673e239eb23d</td>\n",
       "      <td>bebes</td>\n",
       "      <td>27.0</td>\n",
       "      <td>261.0</td>\n",
       "      <td>1.0</td>\n",
       "      <td>371.0</td>\n",
       "      <td>26.0</td>\n",
       "      <td>4.0</td>\n",
       "      <td>26.0</td>\n",
       "    </tr>\n",
       "    <tr>\n",
       "      <th>4</th>\n",
       "      <td>4</td>\n",
       "      <td>9dc1a7de274444849c219cff195d0b71</td>\n",
       "      <td>utilidades_domesticas</td>\n",
       "      <td>37.0</td>\n",
       "      <td>402.0</td>\n",
       "      <td>4.0</td>\n",
       "      <td>625.0</td>\n",
       "      <td>20.0</td>\n",
       "      <td>17.0</td>\n",
       "      <td>13.0</td>\n",
       "    </tr>\n",
       "  </tbody>\n",
       "</table>\n",
       "</div>"
      ],
      "text/plain": [
       "   index                        product_id  product_category_name  \\\n",
       "0      0  1e9e8ef04dbcff4541ed26657ea517e5             perfumaria   \n",
       "1      1  3aa071139cb16b67ca9e5dea641aaa2f                  artes   \n",
       "2      2  96bd76ec8810374ed1b65e291975717f          esporte_lazer   \n",
       "3      3  cef67bcfe19066a932b7673e239eb23d                  bebes   \n",
       "4      4  9dc1a7de274444849c219cff195d0b71  utilidades_domesticas   \n",
       "\n",
       "   product_name_lenght  product_description_lenght  product_photos_qty  \\\n",
       "0                 40.0                       287.0                 1.0   \n",
       "1                 44.0                       276.0                 1.0   \n",
       "2                 46.0                       250.0                 1.0   \n",
       "3                 27.0                       261.0                 1.0   \n",
       "4                 37.0                       402.0                 4.0   \n",
       "\n",
       "   product_weight_g  product_length_cm  product_height_cm  product_width_cm  \n",
       "0             225.0               16.0               10.0              14.0  \n",
       "1            1000.0               30.0               18.0              20.0  \n",
       "2             154.0               18.0                9.0              15.0  \n",
       "3             371.0               26.0                4.0              26.0  \n",
       "4             625.0               20.0               17.0              13.0  "
      ]
     },
     "metadata": {},
     "output_type": "display_data"
    },
    {
     "name": "stdout",
     "output_type": "stream",
     "text": [
      "Orders DataFrame:\n"
     ]
    },
    {
     "data": {
      "text/html": [
       "<div>\n",
       "<style scoped>\n",
       "    .dataframe tbody tr th:only-of-type {\n",
       "        vertical-align: middle;\n",
       "    }\n",
       "\n",
       "    .dataframe tbody tr th {\n",
       "        vertical-align: top;\n",
       "    }\n",
       "\n",
       "    .dataframe thead th {\n",
       "        text-align: right;\n",
       "    }\n",
       "</style>\n",
       "<table border=\"1\" class=\"dataframe\">\n",
       "  <thead>\n",
       "    <tr style=\"text-align: right;\">\n",
       "      <th></th>\n",
       "      <th>index</th>\n",
       "      <th>order_id</th>\n",
       "      <th>customer_id</th>\n",
       "      <th>order_status</th>\n",
       "      <th>order_purchase_timestamp</th>\n",
       "      <th>order_approved_at</th>\n",
       "      <th>order_delivered_carrier_date</th>\n",
       "      <th>order_delivered_customer_date</th>\n",
       "      <th>order_estimated_delivery_date</th>\n",
       "    </tr>\n",
       "  </thead>\n",
       "  <tbody>\n",
       "    <tr>\n",
       "      <th>0</th>\n",
       "      <td>0</td>\n",
       "      <td>e481f51cbdc54678b7cc49136f2d6af7</td>\n",
       "      <td>9ef432eb6251297304e76186b10a928d</td>\n",
       "      <td>delivered</td>\n",
       "      <td>2017-10-02 10:56:33</td>\n",
       "      <td>2017-10-02 11:07:15</td>\n",
       "      <td>2017-10-04 19:55:00</td>\n",
       "      <td>2017-10-10 21:25:13</td>\n",
       "      <td>2017-10-18 00:00:00</td>\n",
       "    </tr>\n",
       "    <tr>\n",
       "      <th>1</th>\n",
       "      <td>1</td>\n",
       "      <td>53cdb2fc8bc7dce0b6741e2150273451</td>\n",
       "      <td>b0830fb4747a6c6d20dea0b8c802d7ef</td>\n",
       "      <td>delivered</td>\n",
       "      <td>2018-07-24 20:41:37</td>\n",
       "      <td>2018-07-26 03:24:27</td>\n",
       "      <td>2018-07-26 14:31:00</td>\n",
       "      <td>2018-08-07 15:27:45</td>\n",
       "      <td>2018-08-13 00:00:00</td>\n",
       "    </tr>\n",
       "    <tr>\n",
       "      <th>2</th>\n",
       "      <td>2</td>\n",
       "      <td>47770eb9100c2d0c44946d9cf07ec65d</td>\n",
       "      <td>41ce2a54c0b03bf3443c3d931a367089</td>\n",
       "      <td>delivered</td>\n",
       "      <td>2018-08-08 08:38:49</td>\n",
       "      <td>2018-08-08 08:55:23</td>\n",
       "      <td>2018-08-08 13:50:00</td>\n",
       "      <td>2018-08-17 18:06:29</td>\n",
       "      <td>2018-09-04 00:00:00</td>\n",
       "    </tr>\n",
       "    <tr>\n",
       "      <th>3</th>\n",
       "      <td>3</td>\n",
       "      <td>949d5b44dbf5de918fe9c16f97b45f8a</td>\n",
       "      <td>f88197465ea7920adcdbec7375364d82</td>\n",
       "      <td>delivered</td>\n",
       "      <td>2017-11-18 19:28:06</td>\n",
       "      <td>2017-11-18 19:45:59</td>\n",
       "      <td>2017-11-22 13:39:59</td>\n",
       "      <td>2017-12-02 00:28:42</td>\n",
       "      <td>2017-12-15 00:00:00</td>\n",
       "    </tr>\n",
       "    <tr>\n",
       "      <th>4</th>\n",
       "      <td>4</td>\n",
       "      <td>ad21c59c0840e6cb83a9ceb5573f8159</td>\n",
       "      <td>8ab97904e6daea8866dbdbc4fb7aad2c</td>\n",
       "      <td>delivered</td>\n",
       "      <td>2018-02-13 21:18:39</td>\n",
       "      <td>2018-02-13 22:20:29</td>\n",
       "      <td>2018-02-14 19:46:34</td>\n",
       "      <td>2018-02-16 18:17:02</td>\n",
       "      <td>2018-02-26 00:00:00</td>\n",
       "    </tr>\n",
       "  </tbody>\n",
       "</table>\n",
       "</div>"
      ],
      "text/plain": [
       "   index                          order_id                       customer_id  \\\n",
       "0      0  e481f51cbdc54678b7cc49136f2d6af7  9ef432eb6251297304e76186b10a928d   \n",
       "1      1  53cdb2fc8bc7dce0b6741e2150273451  b0830fb4747a6c6d20dea0b8c802d7ef   \n",
       "2      2  47770eb9100c2d0c44946d9cf07ec65d  41ce2a54c0b03bf3443c3d931a367089   \n",
       "3      3  949d5b44dbf5de918fe9c16f97b45f8a  f88197465ea7920adcdbec7375364d82   \n",
       "4      4  ad21c59c0840e6cb83a9ceb5573f8159  8ab97904e6daea8866dbdbc4fb7aad2c   \n",
       "\n",
       "  order_status order_purchase_timestamp    order_approved_at  \\\n",
       "0    delivered      2017-10-02 10:56:33  2017-10-02 11:07:15   \n",
       "1    delivered      2018-07-24 20:41:37  2018-07-26 03:24:27   \n",
       "2    delivered      2018-08-08 08:38:49  2018-08-08 08:55:23   \n",
       "3    delivered      2017-11-18 19:28:06  2017-11-18 19:45:59   \n",
       "4    delivered      2018-02-13 21:18:39  2018-02-13 22:20:29   \n",
       "\n",
       "  order_delivered_carrier_date order_delivered_customer_date  \\\n",
       "0          2017-10-04 19:55:00           2017-10-10 21:25:13   \n",
       "1          2018-07-26 14:31:00           2018-08-07 15:27:45   \n",
       "2          2018-08-08 13:50:00           2018-08-17 18:06:29   \n",
       "3          2017-11-22 13:39:59           2017-12-02 00:28:42   \n",
       "4          2018-02-14 19:46:34           2018-02-16 18:17:02   \n",
       "\n",
       "  order_estimated_delivery_date  \n",
       "0           2017-10-18 00:00:00  \n",
       "1           2018-08-13 00:00:00  \n",
       "2           2018-09-04 00:00:00  \n",
       "3           2017-12-15 00:00:00  \n",
       "4           2018-02-26 00:00:00  "
      ]
     },
     "metadata": {},
     "output_type": "display_data"
    },
    {
     "name": "stdout",
     "output_type": "stream",
     "text": [
      "Order Items DataFrame:\n"
     ]
    },
    {
     "data": {
      "text/html": [
       "<div>\n",
       "<style scoped>\n",
       "    .dataframe tbody tr th:only-of-type {\n",
       "        vertical-align: middle;\n",
       "    }\n",
       "\n",
       "    .dataframe tbody tr th {\n",
       "        vertical-align: top;\n",
       "    }\n",
       "\n",
       "    .dataframe thead th {\n",
       "        text-align: right;\n",
       "    }\n",
       "</style>\n",
       "<table border=\"1\" class=\"dataframe\">\n",
       "  <thead>\n",
       "    <tr style=\"text-align: right;\">\n",
       "      <th></th>\n",
       "      <th>index</th>\n",
       "      <th>order_id</th>\n",
       "      <th>order_item_id</th>\n",
       "      <th>product_id</th>\n",
       "      <th>seller_id</th>\n",
       "      <th>shipping_limit_date</th>\n",
       "      <th>price</th>\n",
       "      <th>freight_value</th>\n",
       "    </tr>\n",
       "  </thead>\n",
       "  <tbody>\n",
       "    <tr>\n",
       "      <th>0</th>\n",
       "      <td>0</td>\n",
       "      <td>00010242fe8c5a6d1ba2dd792cb16214</td>\n",
       "      <td>1</td>\n",
       "      <td>4244733e06e7ecb4970a6e2683c13e61</td>\n",
       "      <td>48436dade18ac8b2bce089ec2a041202</td>\n",
       "      <td>2017-09-19 09:45:35</td>\n",
       "      <td>58.90</td>\n",
       "      <td>13.29</td>\n",
       "    </tr>\n",
       "    <tr>\n",
       "      <th>1</th>\n",
       "      <td>1</td>\n",
       "      <td>00018f77f2f0320c557190d7a144bdd3</td>\n",
       "      <td>1</td>\n",
       "      <td>e5f2d52b802189ee658865ca93d83a8f</td>\n",
       "      <td>dd7ddc04e1b6c2c614352b383efe2d36</td>\n",
       "      <td>2017-05-03 11:05:13</td>\n",
       "      <td>239.90</td>\n",
       "      <td>19.93</td>\n",
       "    </tr>\n",
       "    <tr>\n",
       "      <th>2</th>\n",
       "      <td>2</td>\n",
       "      <td>000229ec398224ef6ca0657da4fc703e</td>\n",
       "      <td>1</td>\n",
       "      <td>c777355d18b72b67abbeef9df44fd0fd</td>\n",
       "      <td>5b51032eddd242adc84c38acab88f23d</td>\n",
       "      <td>2018-01-18 14:48:30</td>\n",
       "      <td>199.00</td>\n",
       "      <td>17.87</td>\n",
       "    </tr>\n",
       "    <tr>\n",
       "      <th>3</th>\n",
       "      <td>3</td>\n",
       "      <td>00024acbcdf0a6daa1e931b038114c75</td>\n",
       "      <td>1</td>\n",
       "      <td>7634da152a4610f1595efa32f14722fc</td>\n",
       "      <td>9d7a1d34a5052409006425275ba1c2b4</td>\n",
       "      <td>2018-08-15 10:10:18</td>\n",
       "      <td>12.99</td>\n",
       "      <td>12.79</td>\n",
       "    </tr>\n",
       "    <tr>\n",
       "      <th>4</th>\n",
       "      <td>4</td>\n",
       "      <td>00042b26cf59d7ce69dfabb4e55b4fd9</td>\n",
       "      <td>1</td>\n",
       "      <td>ac6c3623068f30de03045865e4e10089</td>\n",
       "      <td>df560393f3a51e74553ab94004ba5c87</td>\n",
       "      <td>2017-02-13 13:57:51</td>\n",
       "      <td>199.90</td>\n",
       "      <td>18.14</td>\n",
       "    </tr>\n",
       "  </tbody>\n",
       "</table>\n",
       "</div>"
      ],
      "text/plain": [
       "   index                          order_id  order_item_id  \\\n",
       "0      0  00010242fe8c5a6d1ba2dd792cb16214              1   \n",
       "1      1  00018f77f2f0320c557190d7a144bdd3              1   \n",
       "2      2  000229ec398224ef6ca0657da4fc703e              1   \n",
       "3      3  00024acbcdf0a6daa1e931b038114c75              1   \n",
       "4      4  00042b26cf59d7ce69dfabb4e55b4fd9              1   \n",
       "\n",
       "                         product_id                         seller_id  \\\n",
       "0  4244733e06e7ecb4970a6e2683c13e61  48436dade18ac8b2bce089ec2a041202   \n",
       "1  e5f2d52b802189ee658865ca93d83a8f  dd7ddc04e1b6c2c614352b383efe2d36   \n",
       "2  c777355d18b72b67abbeef9df44fd0fd  5b51032eddd242adc84c38acab88f23d   \n",
       "3  7634da152a4610f1595efa32f14722fc  9d7a1d34a5052409006425275ba1c2b4   \n",
       "4  ac6c3623068f30de03045865e4e10089  df560393f3a51e74553ab94004ba5c87   \n",
       "\n",
       "   shipping_limit_date   price  freight_value  \n",
       "0  2017-09-19 09:45:35   58.90          13.29  \n",
       "1  2017-05-03 11:05:13  239.90          19.93  \n",
       "2  2018-01-18 14:48:30  199.00          17.87  \n",
       "3  2018-08-15 10:10:18   12.99          12.79  \n",
       "4  2017-02-13 13:57:51  199.90          18.14  "
      ]
     },
     "metadata": {},
     "output_type": "display_data"
    },
    {
     "name": "stdout",
     "output_type": "stream",
     "text": [
      "Order Payments DataFrame:\n"
     ]
    },
    {
     "data": {
      "text/html": [
       "<div>\n",
       "<style scoped>\n",
       "    .dataframe tbody tr th:only-of-type {\n",
       "        vertical-align: middle;\n",
       "    }\n",
       "\n",
       "    .dataframe tbody tr th {\n",
       "        vertical-align: top;\n",
       "    }\n",
       "\n",
       "    .dataframe thead th {\n",
       "        text-align: right;\n",
       "    }\n",
       "</style>\n",
       "<table border=\"1\" class=\"dataframe\">\n",
       "  <thead>\n",
       "    <tr style=\"text-align: right;\">\n",
       "      <th></th>\n",
       "      <th>index</th>\n",
       "      <th>order_id</th>\n",
       "      <th>payment_sequential</th>\n",
       "      <th>payment_type</th>\n",
       "      <th>payment_installments</th>\n",
       "      <th>payment_value</th>\n",
       "    </tr>\n",
       "  </thead>\n",
       "  <tbody>\n",
       "    <tr>\n",
       "      <th>0</th>\n",
       "      <td>0</td>\n",
       "      <td>b81ef226f3fe1789b1e8b2acac839d17</td>\n",
       "      <td>1</td>\n",
       "      <td>credit_card</td>\n",
       "      <td>8</td>\n",
       "      <td>99.33</td>\n",
       "    </tr>\n",
       "    <tr>\n",
       "      <th>1</th>\n",
       "      <td>1</td>\n",
       "      <td>a9810da82917af2d9aefd1278f1dcfa0</td>\n",
       "      <td>1</td>\n",
       "      <td>credit_card</td>\n",
       "      <td>1</td>\n",
       "      <td>24.39</td>\n",
       "    </tr>\n",
       "    <tr>\n",
       "      <th>2</th>\n",
       "      <td>2</td>\n",
       "      <td>25e8ea4e93396b6fa0d3dd708e76c1bd</td>\n",
       "      <td>1</td>\n",
       "      <td>credit_card</td>\n",
       "      <td>1</td>\n",
       "      <td>65.71</td>\n",
       "    </tr>\n",
       "    <tr>\n",
       "      <th>3</th>\n",
       "      <td>3</td>\n",
       "      <td>ba78997921bbcdc1373bb41e913ab953</td>\n",
       "      <td>1</td>\n",
       "      <td>credit_card</td>\n",
       "      <td>8</td>\n",
       "      <td>107.78</td>\n",
       "    </tr>\n",
       "    <tr>\n",
       "      <th>4</th>\n",
       "      <td>4</td>\n",
       "      <td>42fdf880ba16b47b59251dd489d4441a</td>\n",
       "      <td>1</td>\n",
       "      <td>credit_card</td>\n",
       "      <td>2</td>\n",
       "      <td>128.45</td>\n",
       "    </tr>\n",
       "  </tbody>\n",
       "</table>\n",
       "</div>"
      ],
      "text/plain": [
       "   index                          order_id  payment_sequential payment_type  \\\n",
       "0      0  b81ef226f3fe1789b1e8b2acac839d17                   1  credit_card   \n",
       "1      1  a9810da82917af2d9aefd1278f1dcfa0                   1  credit_card   \n",
       "2      2  25e8ea4e93396b6fa0d3dd708e76c1bd                   1  credit_card   \n",
       "3      3  ba78997921bbcdc1373bb41e913ab953                   1  credit_card   \n",
       "4      4  42fdf880ba16b47b59251dd489d4441a                   1  credit_card   \n",
       "\n",
       "   payment_installments  payment_value  \n",
       "0                     8          99.33  \n",
       "1                     1          24.39  \n",
       "2                     1          65.71  \n",
       "3                     8         107.78  \n",
       "4                     2         128.45  "
      ]
     },
     "metadata": {},
     "output_type": "display_data"
    },
    {
     "name": "stdout",
     "output_type": "stream",
     "text": [
      "Customers DataFrame:\n"
     ]
    },
    {
     "data": {
      "text/html": [
       "<div>\n",
       "<style scoped>\n",
       "    .dataframe tbody tr th:only-of-type {\n",
       "        vertical-align: middle;\n",
       "    }\n",
       "\n",
       "    .dataframe tbody tr th {\n",
       "        vertical-align: top;\n",
       "    }\n",
       "\n",
       "    .dataframe thead th {\n",
       "        text-align: right;\n",
       "    }\n",
       "</style>\n",
       "<table border=\"1\" class=\"dataframe\">\n",
       "  <thead>\n",
       "    <tr style=\"text-align: right;\">\n",
       "      <th></th>\n",
       "      <th>index</th>\n",
       "      <th>customer_id</th>\n",
       "      <th>customer_unique_id</th>\n",
       "      <th>customer_zip_code_prefix</th>\n",
       "      <th>customer_city</th>\n",
       "      <th>customer_state</th>\n",
       "    </tr>\n",
       "  </thead>\n",
       "  <tbody>\n",
       "    <tr>\n",
       "      <th>0</th>\n",
       "      <td>0</td>\n",
       "      <td>06b8999e2fba1a1fbc88172c00ba8bc7</td>\n",
       "      <td>861eff4711a542e4b93843c6dd7febb0</td>\n",
       "      <td>14409</td>\n",
       "      <td>franca</td>\n",
       "      <td>SP</td>\n",
       "    </tr>\n",
       "    <tr>\n",
       "      <th>1</th>\n",
       "      <td>1</td>\n",
       "      <td>18955e83d337fd6b2def6b18a428ac77</td>\n",
       "      <td>290c77bc529b7ac935b93aa66c333dc3</td>\n",
       "      <td>9790</td>\n",
       "      <td>sao bernardo do campo</td>\n",
       "      <td>SP</td>\n",
       "    </tr>\n",
       "    <tr>\n",
       "      <th>2</th>\n",
       "      <td>2</td>\n",
       "      <td>4e7b3e00288586ebd08712fdd0374a03</td>\n",
       "      <td>060e732b5b29e8181a18229c7b0b2b5e</td>\n",
       "      <td>1151</td>\n",
       "      <td>sao paulo</td>\n",
       "      <td>SP</td>\n",
       "    </tr>\n",
       "    <tr>\n",
       "      <th>3</th>\n",
       "      <td>3</td>\n",
       "      <td>b2b6027bc5c5109e529d4dc6358b12c3</td>\n",
       "      <td>259dac757896d24d7702b9acbbff3f3c</td>\n",
       "      <td>8775</td>\n",
       "      <td>mogi das cruzes</td>\n",
       "      <td>SP</td>\n",
       "    </tr>\n",
       "    <tr>\n",
       "      <th>4</th>\n",
       "      <td>4</td>\n",
       "      <td>4f2d8ab171c80ec8364f7c12e35b23ad</td>\n",
       "      <td>345ecd01c38d18a9036ed96c73b8d066</td>\n",
       "      <td>13056</td>\n",
       "      <td>campinas</td>\n",
       "      <td>SP</td>\n",
       "    </tr>\n",
       "  </tbody>\n",
       "</table>\n",
       "</div>"
      ],
      "text/plain": [
       "   index                       customer_id                customer_unique_id  \\\n",
       "0      0  06b8999e2fba1a1fbc88172c00ba8bc7  861eff4711a542e4b93843c6dd7febb0   \n",
       "1      1  18955e83d337fd6b2def6b18a428ac77  290c77bc529b7ac935b93aa66c333dc3   \n",
       "2      2  4e7b3e00288586ebd08712fdd0374a03  060e732b5b29e8181a18229c7b0b2b5e   \n",
       "3      3  b2b6027bc5c5109e529d4dc6358b12c3  259dac757896d24d7702b9acbbff3f3c   \n",
       "4      4  4f2d8ab171c80ec8364f7c12e35b23ad  345ecd01c38d18a9036ed96c73b8d066   \n",
       "\n",
       "   customer_zip_code_prefix          customer_city customer_state  \n",
       "0                     14409                 franca             SP  \n",
       "1                      9790  sao bernardo do campo             SP  \n",
       "2                      1151              sao paulo             SP  \n",
       "3                      8775        mogi das cruzes             SP  \n",
       "4                     13056               campinas             SP  "
      ]
     },
     "metadata": {},
     "output_type": "display_data"
    },
    {
     "name": "stdout",
     "output_type": "stream",
     "text": [
      "Sellers DataFrame:\n"
     ]
    },
    {
     "data": {
      "text/html": [
       "<div>\n",
       "<style scoped>\n",
       "    .dataframe tbody tr th:only-of-type {\n",
       "        vertical-align: middle;\n",
       "    }\n",
       "\n",
       "    .dataframe tbody tr th {\n",
       "        vertical-align: top;\n",
       "    }\n",
       "\n",
       "    .dataframe thead th {\n",
       "        text-align: right;\n",
       "    }\n",
       "</style>\n",
       "<table border=\"1\" class=\"dataframe\">\n",
       "  <thead>\n",
       "    <tr style=\"text-align: right;\">\n",
       "      <th></th>\n",
       "      <th>index</th>\n",
       "      <th>seller_id</th>\n",
       "      <th>seller_zip_code_prefix</th>\n",
       "      <th>seller_city</th>\n",
       "      <th>seller_state</th>\n",
       "    </tr>\n",
       "  </thead>\n",
       "  <tbody>\n",
       "    <tr>\n",
       "      <th>0</th>\n",
       "      <td>0</td>\n",
       "      <td>3442f8959a84dea7ee197c632cb2df15</td>\n",
       "      <td>13023</td>\n",
       "      <td>campinas</td>\n",
       "      <td>SP</td>\n",
       "    </tr>\n",
       "    <tr>\n",
       "      <th>1</th>\n",
       "      <td>1</td>\n",
       "      <td>d1b65fc7debc3361ea86b5f14c68d2e2</td>\n",
       "      <td>13844</td>\n",
       "      <td>mogi guacu</td>\n",
       "      <td>SP</td>\n",
       "    </tr>\n",
       "    <tr>\n",
       "      <th>2</th>\n",
       "      <td>2</td>\n",
       "      <td>ce3ad9de960102d0677a81f5d0bb7b2d</td>\n",
       "      <td>20031</td>\n",
       "      <td>rio de janeiro</td>\n",
       "      <td>RJ</td>\n",
       "    </tr>\n",
       "    <tr>\n",
       "      <th>3</th>\n",
       "      <td>3</td>\n",
       "      <td>c0f3eea2e14555b6faeea3dd58c1b1c3</td>\n",
       "      <td>4195</td>\n",
       "      <td>sao paulo</td>\n",
       "      <td>SP</td>\n",
       "    </tr>\n",
       "    <tr>\n",
       "      <th>4</th>\n",
       "      <td>4</td>\n",
       "      <td>51a04a8a6bdcb23deccc82b0b80742cf</td>\n",
       "      <td>12914</td>\n",
       "      <td>braganca paulista</td>\n",
       "      <td>SP</td>\n",
       "    </tr>\n",
       "  </tbody>\n",
       "</table>\n",
       "</div>"
      ],
      "text/plain": [
       "   index                         seller_id  seller_zip_code_prefix  \\\n",
       "0      0  3442f8959a84dea7ee197c632cb2df15                   13023   \n",
       "1      1  d1b65fc7debc3361ea86b5f14c68d2e2                   13844   \n",
       "2      2  ce3ad9de960102d0677a81f5d0bb7b2d                   20031   \n",
       "3      3  c0f3eea2e14555b6faeea3dd58c1b1c3                    4195   \n",
       "4      4  51a04a8a6bdcb23deccc82b0b80742cf                   12914   \n",
       "\n",
       "         seller_city seller_state  \n",
       "0           campinas           SP  \n",
       "1         mogi guacu           SP  \n",
       "2     rio de janeiro           RJ  \n",
       "3          sao paulo           SP  \n",
       "4  braganca paulista           SP  "
      ]
     },
     "metadata": {},
     "output_type": "display_data"
    },
    {
     "name": "stdout",
     "output_type": "stream",
     "text": [
      "Order Reviews DataFrame:\n"
     ]
    },
    {
     "data": {
      "text/html": [
       "<div>\n",
       "<style scoped>\n",
       "    .dataframe tbody tr th:only-of-type {\n",
       "        vertical-align: middle;\n",
       "    }\n",
       "\n",
       "    .dataframe tbody tr th {\n",
       "        vertical-align: top;\n",
       "    }\n",
       "\n",
       "    .dataframe thead th {\n",
       "        text-align: right;\n",
       "    }\n",
       "</style>\n",
       "<table border=\"1\" class=\"dataframe\">\n",
       "  <thead>\n",
       "    <tr style=\"text-align: right;\">\n",
       "      <th></th>\n",
       "      <th>index</th>\n",
       "      <th>review_id</th>\n",
       "      <th>order_id</th>\n",
       "      <th>review_score</th>\n",
       "      <th>review_comment_title</th>\n",
       "      <th>review_comment_message</th>\n",
       "      <th>review_creation_date</th>\n",
       "      <th>review_answer_timestamp</th>\n",
       "    </tr>\n",
       "  </thead>\n",
       "  <tbody>\n",
       "    <tr>\n",
       "      <th>0</th>\n",
       "      <td>0</td>\n",
       "      <td>7bc2406110b926393aa56f80a40eba40</td>\n",
       "      <td>73fc7af87114b39712e6da79b0a377eb</td>\n",
       "      <td>4</td>\n",
       "      <td>None</td>\n",
       "      <td>None</td>\n",
       "      <td>2018-01-18 00:00:00</td>\n",
       "      <td>2018-01-18 21:46:59</td>\n",
       "    </tr>\n",
       "    <tr>\n",
       "      <th>1</th>\n",
       "      <td>1</td>\n",
       "      <td>80e641a11e56f04c1ad469d5645fdfde</td>\n",
       "      <td>a548910a1c6147796b98fdf73dbeba33</td>\n",
       "      <td>5</td>\n",
       "      <td>None</td>\n",
       "      <td>None</td>\n",
       "      <td>2018-03-10 00:00:00</td>\n",
       "      <td>2018-03-11 03:05:13</td>\n",
       "    </tr>\n",
       "    <tr>\n",
       "      <th>2</th>\n",
       "      <td>2</td>\n",
       "      <td>228ce5500dc1d8e020d8d1322874b6f0</td>\n",
       "      <td>f9e4b658b201a9f2ecdecbb34bed034b</td>\n",
       "      <td>5</td>\n",
       "      <td>None</td>\n",
       "      <td>None</td>\n",
       "      <td>2018-02-17 00:00:00</td>\n",
       "      <td>2018-02-18 14:36:24</td>\n",
       "    </tr>\n",
       "    <tr>\n",
       "      <th>3</th>\n",
       "      <td>3</td>\n",
       "      <td>e64fb393e7b32834bb789ff8bb30750e</td>\n",
       "      <td>658677c97b385a9be170737859d3511b</td>\n",
       "      <td>5</td>\n",
       "      <td>None</td>\n",
       "      <td>Recebi bem antes do prazo estipulado.</td>\n",
       "      <td>2017-04-21 00:00:00</td>\n",
       "      <td>2017-04-21 22:02:06</td>\n",
       "    </tr>\n",
       "    <tr>\n",
       "      <th>4</th>\n",
       "      <td>4</td>\n",
       "      <td>f7c4243c7fe1938f181bec41a392bdeb</td>\n",
       "      <td>8e6bfb81e283fa7e4f11123a3fb894f1</td>\n",
       "      <td>5</td>\n",
       "      <td>None</td>\n",
       "      <td>Parabéns lojas lannister adorei comprar pela I...</td>\n",
       "      <td>2018-03-01 00:00:00</td>\n",
       "      <td>2018-03-02 10:26:53</td>\n",
       "    </tr>\n",
       "  </tbody>\n",
       "</table>\n",
       "</div>"
      ],
      "text/plain": [
       "   index                         review_id                          order_id  \\\n",
       "0      0  7bc2406110b926393aa56f80a40eba40  73fc7af87114b39712e6da79b0a377eb   \n",
       "1      1  80e641a11e56f04c1ad469d5645fdfde  a548910a1c6147796b98fdf73dbeba33   \n",
       "2      2  228ce5500dc1d8e020d8d1322874b6f0  f9e4b658b201a9f2ecdecbb34bed034b   \n",
       "3      3  e64fb393e7b32834bb789ff8bb30750e  658677c97b385a9be170737859d3511b   \n",
       "4      4  f7c4243c7fe1938f181bec41a392bdeb  8e6bfb81e283fa7e4f11123a3fb894f1   \n",
       "\n",
       "   review_score review_comment_title  \\\n",
       "0             4                 None   \n",
       "1             5                 None   \n",
       "2             5                 None   \n",
       "3             5                 None   \n",
       "4             5                 None   \n",
       "\n",
       "                              review_comment_message review_creation_date  \\\n",
       "0                                               None  2018-01-18 00:00:00   \n",
       "1                                               None  2018-03-10 00:00:00   \n",
       "2                                               None  2018-02-17 00:00:00   \n",
       "3              Recebi bem antes do prazo estipulado.  2017-04-21 00:00:00   \n",
       "4  Parabéns lojas lannister adorei comprar pela I...  2018-03-01 00:00:00   \n",
       "\n",
       "  review_answer_timestamp  \n",
       "0     2018-01-18 21:46:59  \n",
       "1     2018-03-11 03:05:13  \n",
       "2     2018-02-18 14:36:24  \n",
       "3     2017-04-21 22:02:06  \n",
       "4     2018-03-02 10:26:53  "
      ]
     },
     "metadata": {},
     "output_type": "display_data"
    }
   ],
   "source": [
    "from IPython.display import display\n",
    "\n",
    "# Liste des tables à lire\n",
    "tables = ['products', 'orders', 'order_items', 'order_pymts', 'customers', 'sellers', 'order_reviews']\n",
    "\n",
    "# Création des DataFrames pour chaque table\n",
    "products_df = pd.read_sql_query(\"SELECT * FROM products\", db_connection)\n",
    "orders_df = pd.read_sql_query(\"SELECT * FROM orders\", db_connection)\n",
    "order_items_df = pd.read_sql_query(\"SELECT * FROM order_items\", db_connection)\n",
    "order_pymts_df = pd.read_sql_query(\"SELECT * FROM order_pymts\", db_connection)\n",
    "customers_df = pd.read_sql_query(\"SELECT * FROM customers\", db_connection)\n",
    "sellers_df = pd.read_sql_query(\"SELECT * FROM sellers\", db_connection)\n",
    "order_reviews_df = pd.read_sql_query(\"SELECT * FROM order_reviews\", db_connection)\n",
    "\n",
    "from IPython.display import display\n",
    "\n",
    "# Affichage des premières lignes de chaque DataFrame\n",
    "print(\"Products DataFrame\")\n",
    "display(products_df.head())\n",
    "\n",
    "print(\"Orders DataFrame:\")\n",
    "display(orders_df.head())\n",
    "\n",
    "print(\"Order Items DataFrame:\")\n",
    "display(order_items_df.head())\n",
    "\n",
    "print(\"Order Payments DataFrame:\")\n",
    "display(order_pymts_df.head())\n",
    "\n",
    "print(\"Customers DataFrame:\")\n",
    "display(customers_df.head())\n",
    "\n",
    "print(\"Sellers DataFrame:\")\n",
    "display(sellers_df.head())\n",
    "\n",
    "print(\"Order Reviews DataFrame:\")\n",
    "display(order_reviews_df.head())\n"
   ]
  },
  {
   "cell_type": "code",
   "execution_count": 55,
   "metadata": {},
   "outputs": [
    {
     "data": {
      "text/plain": [
       "99441"
      ]
     },
     "execution_count": 55,
     "metadata": {},
     "output_type": "execute_result"
    }
   ],
   "source": [
    "len(orders_df['customer_id'].unique())"
   ]
  },
  {
   "cell_type": "code",
   "execution_count": 56,
   "metadata": {},
   "outputs": [
    {
     "name": "stdout",
     "output_type": "stream",
     "text": [
      "            name\n",
      "0      customers\n",
      "1         geoloc\n",
      "2    order_items\n",
      "3    order_pymts\n",
      "4  order_reviews\n",
      "5         orders\n",
      "6       products\n",
      "7        sellers\n",
      "8    translation\n"
     ]
    }
   ],
   "source": [
    "# Requête pour obtenir les noms de toutes les tables\n",
    "query = \"SELECT name FROM sqlite_master WHERE type='table';\"\n",
    "\n",
    "# Exécution de la requête\n",
    "tables = pd.read_sql_query(query, db_connection)\n",
    "\n",
    "# Affichage des noms de tables\n",
    "print(tables)"
   ]
  },
  {
   "cell_type": "code",
   "execution_count": 57,
   "metadata": {},
   "outputs": [
    {
     "name": "stdout",
     "output_type": "stream",
     "text": [
      "Table: customers\n",
      "Colonnes: ['index', 'customer_id', 'customer_unique_id', 'customer_zip_code_prefix', 'customer_city', 'customer_state']\n",
      "\n",
      "\n",
      "Table: geoloc\n",
      "Colonnes: ['index', 'geolocation_zip_code_prefix', 'geolocation_lat', 'geolocation_lng', 'geolocation_city', 'geolocation_state']\n",
      "\n",
      "\n",
      "Table: order_items\n",
      "Colonnes: ['index', 'order_id', 'order_item_id', 'product_id', 'seller_id', 'shipping_limit_date', 'price', 'freight_value']\n",
      "\n",
      "\n",
      "Table: order_pymts\n",
      "Colonnes: ['index', 'order_id', 'payment_sequential', 'payment_type', 'payment_installments', 'payment_value']\n",
      "\n",
      "\n",
      "Table: order_reviews\n",
      "Colonnes: ['index', 'review_id', 'order_id', 'review_score', 'review_comment_title', 'review_comment_message', 'review_creation_date', 'review_answer_timestamp']\n",
      "\n",
      "\n",
      "Table: orders\n",
      "Colonnes: ['index', 'order_id', 'customer_id', 'order_status', 'order_purchase_timestamp', 'order_approved_at', 'order_delivered_carrier_date', 'order_delivered_customer_date', 'order_estimated_delivery_date']\n",
      "\n",
      "\n",
      "Table: products\n",
      "Colonnes: ['index', 'product_id', 'product_category_name', 'product_name_lenght', 'product_description_lenght', 'product_photos_qty', 'product_weight_g', 'product_length_cm', 'product_height_cm', 'product_width_cm']\n",
      "\n",
      "\n",
      "Table: sellers\n",
      "Colonnes: ['index', 'seller_id', 'seller_zip_code_prefix', 'seller_city', 'seller_state']\n",
      "\n",
      "\n",
      "Table: translation\n",
      "Colonnes: ['index', 'product_category_name', 'product_category_name_english']\n",
      "\n",
      "\n"
     ]
    }
   ],
   "source": [
    "# Chemin vers votre base de données SQLite\n",
    "db_path = 'olist.db'\n",
    "\n",
    "# Connexion à la base de données SQLite\n",
    "conn = sqlite3.connect(db_path)\n",
    "cursor = conn.cursor()\n",
    "\n",
    "# Fonction pour récupérer les colonnes d'une table spécifique\n",
    "def get_table_columns(cursor, table_name):\n",
    "    cursor.execute(f\"PRAGMA table_info('{table_name}')\")\n",
    "    columns = cursor.fetchall()\n",
    "    column_names = [col[1] for col in columns]  # Le nom de la colonne est en deuxième position dans chaque tuple retourné\n",
    "    return column_names\n",
    "\n",
    "# Liste des tables à inspecter\n",
    "tables = ['customers', 'geoloc', 'order_items', 'order_pymts', 'order_reviews', 'orders', 'products', 'sellers', 'translation']\n",
    "\n",
    "# Récupération des colonnes pour chaque table et affichage des résultats\n",
    "for table in tables:\n",
    "    columns = get_table_columns(cursor, table)\n",
    "    print(f\"Table: {table}\")\n",
    "    print(f\"Colonnes: {columns}\")\n",
    "    print(\"\\n\")\n",
    "\n",
    "# Fermeture de la connexion à la base de données\n",
    "conn.close()\n",
    "\n"
   ]
  },
  {
   "cell_type": "markdown",
   "metadata": {},
   "source": [
    "### Fusion des DataFrames"
   ]
  },
  {
   "cell_type": "markdown",
   "metadata": {},
   "source": [
    "Nous fusionnons les DataFrames les plus pertinents (`orders_df`, `order_payments_df`, `order_items_df`) pour l'analyse initiale."
   ]
  },
  {
   "cell_type": "code",
   "execution_count": 58,
   "metadata": {},
   "outputs": [
    {
     "name": "stdout",
     "output_type": "stream",
     "text": [
      "Premières lignes du DataFrame fusionné et nettoyé (merged_df) :\n"
     ]
    },
    {
     "data": {
      "text/html": [
       "<div>\n",
       "<style scoped>\n",
       "    .dataframe tbody tr th:only-of-type {\n",
       "        vertical-align: middle;\n",
       "    }\n",
       "\n",
       "    .dataframe tbody tr th {\n",
       "        vertical-align: top;\n",
       "    }\n",
       "\n",
       "    .dataframe thead th {\n",
       "        text-align: right;\n",
       "    }\n",
       "</style>\n",
       "<table border=\"1\" class=\"dataframe\">\n",
       "  <thead>\n",
       "    <tr style=\"text-align: right;\">\n",
       "      <th></th>\n",
       "      <th>order_id</th>\n",
       "      <th>order_status</th>\n",
       "      <th>order_purchase_timestamp</th>\n",
       "      <th>customer_unique_id</th>\n",
       "      <th>customer_state</th>\n",
       "      <th>price</th>\n",
       "      <th>freight_value</th>\n",
       "    </tr>\n",
       "  </thead>\n",
       "  <tbody>\n",
       "    <tr>\n",
       "      <th>0</th>\n",
       "      <td>e481f51cbdc54678b7cc49136f2d6af7</td>\n",
       "      <td>delivered</td>\n",
       "      <td>2017-10-02 10:56:33</td>\n",
       "      <td>7c396fd4830fd04220f754e42b4e5bff</td>\n",
       "      <td>SP</td>\n",
       "      <td>29.99</td>\n",
       "      <td>8.72</td>\n",
       "    </tr>\n",
       "    <tr>\n",
       "      <th>1</th>\n",
       "      <td>53cdb2fc8bc7dce0b6741e2150273451</td>\n",
       "      <td>delivered</td>\n",
       "      <td>2018-07-24 20:41:37</td>\n",
       "      <td>af07308b275d755c9edb36a90c618231</td>\n",
       "      <td>BA</td>\n",
       "      <td>118.70</td>\n",
       "      <td>22.76</td>\n",
       "    </tr>\n",
       "    <tr>\n",
       "      <th>2</th>\n",
       "      <td>47770eb9100c2d0c44946d9cf07ec65d</td>\n",
       "      <td>delivered</td>\n",
       "      <td>2018-08-08 08:38:49</td>\n",
       "      <td>3a653a41f6f9fc3d2a113cf8398680e8</td>\n",
       "      <td>GO</td>\n",
       "      <td>159.90</td>\n",
       "      <td>19.22</td>\n",
       "    </tr>\n",
       "    <tr>\n",
       "      <th>3</th>\n",
       "      <td>949d5b44dbf5de918fe9c16f97b45f8a</td>\n",
       "      <td>delivered</td>\n",
       "      <td>2017-11-18 19:28:06</td>\n",
       "      <td>7c142cf63193a1473d2e66489a9ae977</td>\n",
       "      <td>RN</td>\n",
       "      <td>45.00</td>\n",
       "      <td>27.20</td>\n",
       "    </tr>\n",
       "    <tr>\n",
       "      <th>4</th>\n",
       "      <td>ad21c59c0840e6cb83a9ceb5573f8159</td>\n",
       "      <td>delivered</td>\n",
       "      <td>2018-02-13 21:18:39</td>\n",
       "      <td>72632f0f9dd73dfee390c9b22eb56dd6</td>\n",
       "      <td>SP</td>\n",
       "      <td>19.90</td>\n",
       "      <td>8.72</td>\n",
       "    </tr>\n",
       "  </tbody>\n",
       "</table>\n",
       "</div>"
      ],
      "text/plain": [
       "                           order_id order_status order_purchase_timestamp  \\\n",
       "0  e481f51cbdc54678b7cc49136f2d6af7    delivered      2017-10-02 10:56:33   \n",
       "1  53cdb2fc8bc7dce0b6741e2150273451    delivered      2018-07-24 20:41:37   \n",
       "2  47770eb9100c2d0c44946d9cf07ec65d    delivered      2018-08-08 08:38:49   \n",
       "3  949d5b44dbf5de918fe9c16f97b45f8a    delivered      2017-11-18 19:28:06   \n",
       "4  ad21c59c0840e6cb83a9ceb5573f8159    delivered      2018-02-13 21:18:39   \n",
       "\n",
       "                 customer_unique_id customer_state   price  freight_value  \n",
       "0  7c396fd4830fd04220f754e42b4e5bff             SP   29.99           8.72  \n",
       "1  af07308b275d755c9edb36a90c618231             BA  118.70          22.76  \n",
       "2  3a653a41f6f9fc3d2a113cf8398680e8             GO  159.90          19.22  \n",
       "3  7c142cf63193a1473d2e66489a9ae977             RN   45.00          27.20  \n",
       "4  72632f0f9dd73dfee390c9b22eb56dd6             SP   19.90           8.72  "
      ]
     },
     "metadata": {},
     "output_type": "display_data"
    },
    {
     "name": "stdout",
     "output_type": "stream",
     "text": [
      "112650\n"
     ]
    }
   ],
   "source": [
    "### RFM\n",
    "\n",
    "# Fusionner orders_df avec order_pymts_df\n",
    "merged_df = pd.merge(orders_df, customers_df, how=\"left\", on=\"customer_id\", suffixes=('_orders', '_customers'))\n",
    "\n",
    "# Fusionner orders_df avec order_pymts_df\n",
    "merged_df = pd.merge(merged_df, order_items_df, how=\"left\", on=\"order_id\", suffixes=('_orders', '_customers'))\n",
    "\n",
    "colums_to_keep = [\n",
    "    'order_id',\n",
    "    'order_status',\n",
    "    'order_purchase_timestamp',\n",
    "    'customer_unique_id',\n",
    "    'customer_state',\n",
    "    'price',\n",
    "    'freight_value',\n",
    "]\n",
    "\n",
    "merged_df = merged_df[colums_to_keep]\n",
    "\n",
    "# On ne garde que les lignes dont le price n'est pas (~) nul \n",
    "orders_with_price = merged_df.loc[~merged_df['price'].isnull()]\n",
    "\n",
    "# Afficher les premières lignes du DataFrame fusionné\n",
    "print(\"Premières lignes du DataFrame fusionné et nettoyé (merged_df) :\")\n",
    "display(orders_with_price.head())\n",
    "\n",
    "print(len(orders_with_price))"
   ]
  },
  {
   "cell_type": "code",
   "execution_count": 59,
   "metadata": {},
   "outputs": [
    {
     "name": "stdout",
     "output_type": "stream",
     "text": [
      "Premières lignes du DataFrame fusionné et nettoyé et groupé :\n"
     ]
    },
    {
     "data": {
      "text/html": [
       "<div>\n",
       "<style scoped>\n",
       "    .dataframe tbody tr th:only-of-type {\n",
       "        vertical-align: middle;\n",
       "    }\n",
       "\n",
       "    .dataframe tbody tr th {\n",
       "        vertical-align: top;\n",
       "    }\n",
       "\n",
       "    .dataframe thead th {\n",
       "        text-align: right;\n",
       "    }\n",
       "</style>\n",
       "<table border=\"1\" class=\"dataframe\">\n",
       "  <thead>\n",
       "    <tr style=\"text-align: right;\">\n",
       "      <th></th>\n",
       "      <th>order_id</th>\n",
       "      <th>customer_unique_id</th>\n",
       "      <th>review_score</th>\n",
       "    </tr>\n",
       "  </thead>\n",
       "  <tbody>\n",
       "    <tr>\n",
       "      <th>0</th>\n",
       "      <td>e481f51cbdc54678b7cc49136f2d6af7</td>\n",
       "      <td>7c396fd4830fd04220f754e42b4e5bff</td>\n",
       "      <td>4.0</td>\n",
       "    </tr>\n",
       "    <tr>\n",
       "      <th>1</th>\n",
       "      <td>53cdb2fc8bc7dce0b6741e2150273451</td>\n",
       "      <td>af07308b275d755c9edb36a90c618231</td>\n",
       "      <td>4.0</td>\n",
       "    </tr>\n",
       "    <tr>\n",
       "      <th>2</th>\n",
       "      <td>47770eb9100c2d0c44946d9cf07ec65d</td>\n",
       "      <td>3a653a41f6f9fc3d2a113cf8398680e8</td>\n",
       "      <td>5.0</td>\n",
       "    </tr>\n",
       "    <tr>\n",
       "      <th>3</th>\n",
       "      <td>949d5b44dbf5de918fe9c16f97b45f8a</td>\n",
       "      <td>7c142cf63193a1473d2e66489a9ae977</td>\n",
       "      <td>5.0</td>\n",
       "    </tr>\n",
       "    <tr>\n",
       "      <th>4</th>\n",
       "      <td>ad21c59c0840e6cb83a9ceb5573f8159</td>\n",
       "      <td>72632f0f9dd73dfee390c9b22eb56dd6</td>\n",
       "      <td>5.0</td>\n",
       "    </tr>\n",
       "  </tbody>\n",
       "</table>\n",
       "</div>"
      ],
      "text/plain": [
       "                           order_id                customer_unique_id  \\\n",
       "0  e481f51cbdc54678b7cc49136f2d6af7  7c396fd4830fd04220f754e42b4e5bff   \n",
       "1  53cdb2fc8bc7dce0b6741e2150273451  af07308b275d755c9edb36a90c618231   \n",
       "2  47770eb9100c2d0c44946d9cf07ec65d  3a653a41f6f9fc3d2a113cf8398680e8   \n",
       "3  949d5b44dbf5de918fe9c16f97b45f8a  7c142cf63193a1473d2e66489a9ae977   \n",
       "4  ad21c59c0840e6cb83a9ceb5573f8159  72632f0f9dd73dfee390c9b22eb56dd6   \n",
       "\n",
       "   review_score  \n",
       "0           4.0  \n",
       "1           4.0  \n",
       "2           5.0  \n",
       "3           5.0  \n",
       "4           5.0  "
      ]
     },
     "metadata": {},
     "output_type": "display_data"
    },
    {
     "name": "stdout",
     "output_type": "stream",
     "text": [
      "99224\n"
     ]
    }
   ],
   "source": [
    "### REVIEW SCORE\n",
    "\n",
    "# On cherche à obtenir un DataFrame avec deux colonnes : customer_unique_id et review_score\n",
    "merged_df = pd.merge(orders_df, customers_df, how='left', on='customer_id', suffixes=('_orders', '_customers'))\n",
    "\n",
    "merged_df = pd.merge(merged_df, order_reviews_df, how='left', on='order_id', suffixes=('_merged', '_reviews'))\n",
    "\n",
    "# Garder les colonnes utiles\n",
    "colums_to_keep = [\n",
    "    'order_id',\n",
    "    'customer_unique_id',\n",
    "    'review_score',\n",
    "]\n",
    "\n",
    "merged_df = merged_df[colums_to_keep]\n",
    "\n",
    "# On ne garde que les lignes dont le review score n'est pas (~) nul\n",
    "orders_with_review_score = merged_df.loc[~merged_df['review_score'].isnull()]\n",
    "\n",
    "# Afficher les premières lignes du DataFrame fusionné\n",
    "print(\"Premières lignes du DataFrame fusionné et nettoyé et groupé :\")\n",
    "display(orders_with_review_score.head())\n",
    "\n",
    "print(len(orders_with_review_score))"
   ]
  },
  {
   "cell_type": "markdown",
   "metadata": {},
   "source": [
    "### Analyse de la distribution de la valeur des transactions\n",
    "Nous générons un histogramme du logarithme naturel de la colonne `amount` pour examiner la distribution de la valeur des produits commandés.\n"
   ]
  },
  {
   "cell_type": "code",
   "execution_count": 60,
   "metadata": {},
   "outputs": [
    {
     "data": {
      "text/plain": [
       "Text(0.5, 0, '')"
      ]
     },
     "execution_count": 60,
     "metadata": {},
     "output_type": "execute_result"
    },
    {
     "data": {
      "image/png": "[encoded data removed]",
      "text/plain": [
       "<Figure size 1200x1000 with 1 Axes>"
      ]
     },
     "metadata": {},
     "output_type": "display_data"
    }
   ],
   "source": [
    "plt.figure(figsize=(12,10))\n",
    "sns.histplot(np.log(orders_with_price['price']))\n",
    "plt.title(\"Product Value of Orders - Distribution\")\n",
    "plt.xlabel(\"\")"
   ]
  },
  {
   "cell_type": "markdown",
   "metadata": {},
   "source": [
    "**Calcul de la skewness et de la kurtosis :**\n",
    "\n",
    "Nous calculons et affichons la skewness et la kurtosis pour évaluer la symétrie et la forme de la distribution des valeurs des transactions.\n"
   ]
  },
  {
   "cell_type": "code",
   "execution_count": 61,
   "metadata": {},
   "outputs": [
    {
     "name": "stdout",
     "output_type": "stream",
     "text": [
      "Skewness of the transaction value: 0.23909367248174712\n",
      "Excess Kurtosis of the transaction value: 0.4700676516642437\n"
     ]
    }
   ],
   "source": [
    "print(\"Skewness of the transaction value:\", skew(np.log(orders_with_price['price'])))\n",
    "print(\"Excess Kurtosis of the transaction value:\", kurtosis(np.log(orders_with_price['price'])))"
   ]
  },
  {
   "cell_type": "markdown",
   "metadata": {},
   "source": [
    "Les valeurs de la skewness (asymétrie) et de l'excès de kurtosis fournissent des indications sur la forme et les caractéristiques de la distribution des valeurs de transaction :\n",
    "\n",
    "- Skewness (Asymétrie) : Avec une valeur de skewness de 0.2677, la distribution montre une légère asymétrie vers la droite. Cependant, elle reste globalement relativement symétrique.\n",
    "  \n",
    "- Excès de kurtosis : La valeur d'excès de kurtosis de 0.4101 indique que la distribution est légèrement plus pointue par rapport à une distribution normale, mais elle reste assez proche d'une distribution normale standard.\n",
    "\n",
    "En résumé, les valeurs de transaction présentent une distribution légèrement asymétrique vers la droite et légèrement plus pointue qu'une distribution normale. Ces valeurs suggèrent que la distribution s'écarte légèrement de la normalité, mais reste relativement bien adaptée à des fins d'analyse statistique et de modélisation."
   ]
  },
  {
   "cell_type": "code",
   "execution_count": 62,
   "metadata": {},
   "outputs": [
    {
     "name": "stdout",
     "output_type": "stream",
     "text": [
      "Colonnes avec des valeurs manquantes :\n",
      "Series([], dtype: int64)\n",
      "\n",
      "Nombre total de valeurs manquantes par colonne :\n",
      "order_id                    0\n",
      "order_status                0\n",
      "order_purchase_timestamp    0\n",
      "customer_unique_id          0\n",
      "customer_state              0\n",
      "price                       0\n",
      "freight_value               0\n",
      "dtype: int64\n"
     ]
    }
   ],
   "source": [
    "# Calculer le nombre de valeurs manquantes par colonne\n",
    "missing_values = orders_with_price.isnull().sum()\n",
    "\n",
    "# Afficher les colonnes avec des valeurs manquantes (si nécessaire)\n",
    "print(\"Colonnes avec des valeurs manquantes :\")\n",
    "print(missing_values[missing_values > 0])\n",
    "\n",
    "# Afficher le nombre total de valeurs manquantes par colonne\n",
    "print(\"\\nNombre total de valeurs manquantes par colonne :\")\n",
    "print(missing_values)"
   ]
  },
  {
   "cell_type": "markdown",
   "metadata": {},
   "source": [
    "### Analyse des Outliers dans les Données Client\n",
    "\n",
    "Dans cette cellule, nous allons analyser la distribution des outliers dans notre jeu de données clients en utilisant un boxplot. Nous allons nous concentrer sur les colonnes `price` et `freight_value` pour chaque `customer_id`. Pour ce faire, nous allons utiliser la bibliothèque Seaborn pour créer un boxplot qui nous permettra de visualiser la répartition des valeurs extrêmes (outliers) pour ces variables.\n",
    "\n",
    "Voici les étapes que nous allons suivre :\n",
    "1. Sélectionner les colonnes `customer_id`, `price`, et `freight_value` de notre DataFrame `order_payment_product`.\n",
    "2. Configurer la taille de la figure pour notre boxplot.\n",
    "3. Créer le boxplot avec les paramètres souhaités (orientation verticale, palette de couleurs, etc.).\n",
    "4. Ajouter un titre et des labels pour les axes pour une meilleure compréhension du graphique.\n",
    "\n",
    "Les outliers sont des observations qui se situent bien au-delà de la majorité des données, et leur identification est cruciale pour une analyse approfondie et fiable des données.\n",
    "\n"
   ]
  },
  {
   "cell_type": "code",
   "execution_count": 63,
   "metadata": {},
   "outputs": [
    {
     "data": {
      "text/plain": [
       "Text(0.5, 0, 'Attributes')"
      ]
     },
     "execution_count": 63,
     "metadata": {},
     "output_type": "execute_result"
    },
    {
     "data": {
      "image/png": "[encoded data removed]",
      "text/plain": [
       "<Figure size 1000x800 with 1 Axes>"
      ]
     },
     "metadata": {},
     "output_type": "display_data"
    }
   ],
   "source": [
    "# Lets define our customer by age and amount spended(price)\n",
    "visualisation_df = orders_with_price[['customer_unique_id','price','freight_value']]\n",
    "\n",
    "# Set the default figure size for the boxplot\n",
    "plt.rcParams['figure.figsize'] = [10,8]\n",
    "\n",
    "# Create a boxplot using Seaborn\n",
    "sns.boxplot(data = visualisation_df, orient=\"v\", palette=\"Set2\", whis=1.5, saturation=1, width=0.7)\n",
    "\n",
    "# Set the title of the boxplot\n",
    "plt.title(\"Outliers Variable Distribution\", fontsize = 14, fontweight = 'bold')\n",
    "\n",
    "# Label the y-axis of the boxplot\n",
    "plt.ylabel(\"Range\", fontweight = 'bold')\n",
    "\n",
    "# Label the x-axis of the boxplot\n",
    "plt.xlabel(\"Attributes\", fontweight = 'bold')"
   ]
  },
  {
   "cell_type": "markdown",
   "metadata": {},
   "source": [
    "Après avoir créé le boxplot, nous avons remarqué des outliers dans la variable `price`. Les valeurs atteignent environ 7000. Par conséquent, nous devons les traiter."
   ]
  },
  {
   "cell_type": "code",
   "execution_count": 64,
   "metadata": {},
   "outputs": [],
   "source": [
    "# Fonction pour supprimer les outliers\n",
    "def remove_outliers(df, column):\n",
    "    Q1 = df[column].quantile(0.05)\n",
    "    Q3 = df[column].quantile(0.95)\n",
    "    IQR = Q3 - Q1\n",
    "    df_filtered = df[(df[column] >= Q1 - 1.5*IQR) & (df[column] <= Q3 + 1.5*IQR)]\n",
    "    return df_filtered\n",
    "\n",
    "# Appliquer la fonction pour Amount et age\n",
    "orders_with_price_cleaned = remove_outliers(orders_with_price, 'price')"
   ]
  },
  {
   "cell_type": "code",
   "execution_count": 65,
   "metadata": {},
   "outputs": [
    {
     "name": "stderr",
     "output_type": "stream",
     "text": [
      "C:\\Users\\Mathieu Bosse\\AppData\\Local\\Temp\\ipykernel_48632\\946540422.py:2: SettingWithCopyWarning: \n",
      "A value is trying to be set on a copy of a slice from a DataFrame\n",
      "\n",
      "See the caveats in the documentation: https://pandas.pydata.org/pandas-docs/stable/user_guide/indexing.html#returning-a-view-versus-a-copy\n",
      "  orders_with_price_cleaned.sort_values(by='price', inplace=True)\n"
     ]
    }
   ],
   "source": [
    "# Trier le DataFrame par les valeurs de la colonne 'amount' par ordre croissant\n",
    "orders_with_price_cleaned.sort_values(by='price', inplace=True)\n",
    "\n",
    "# Réinitialiser l'index du DataFrame après le tri, en supprimant l'ancien index\n",
    "orders_with_price_cleaned = orders_with_price_cleaned.reset_index(drop=True)\n",
    "\n",
    "orders_with_price_cleaned.to_csv('orders_with_price_cleaned.csv', index=False)"
   ]
  },
  {
   "cell_type": "markdown",
   "metadata": {},
   "source": [
    "**Créons un autre boxplot pour vérifier la distribution sans les outliers**\n",
    "\n",
    "Nous allons créer un nouveau boxplot pour vérifier comment la distribution des variables `amount` et `age` change après avoir supprimé les outliers. Cela nous permettra de mieux comprendre la distribution des données sans les valeurs extrêmes.\n"
   ]
  },
  {
   "cell_type": "code",
   "execution_count": 66,
   "metadata": {},
   "outputs": [
    {
     "data": {
      "image/png": "[encoded data removed]",
      "text/plain": [
       "<Figure size 1000x800 with 1 Axes>"
      ]
     },
     "metadata": {},
     "output_type": "display_data"
    }
   ],
   "source": [
    "# Créons un autre boxplot pour vérifier la distribution sans les outliers\n",
    "plt.rcParams['figure.figsize'] = [10,8]\n",
    "\n",
    "sns.boxplot(data = orders_with_price_cleaned, orient=\"v\", palette=\"Set2\", whis=1.5, saturation=1, width=0.7)\n",
    "\n",
    "plt.title(\"Outliers Variable Distribution\", fontsize = 14, fontweight = 'bold')\n",
    "plt.ylabel(\"Range\", fontweight = 'bold')\n",
    "plt.xlabel(\"Attributes\", fontweight = 'bold')\n",
    "\n",
    "plt.show()"
   ]
  },
  {
   "cell_type": "markdown",
   "metadata": {},
   "source": [
    "Des outliers sont toujours observés dans le graphique, mais ils sont moins extrêmes que ceux présentés dans le graphique précédent. Nous avons décidé de les conserver afin de conserver la diversité des données. Cette diversité peut enrichir les analyses et les modèles en capturant une gamme plus large de scénarios et de résultats possibles.\n"
   ]
  },
  {
   "cell_type": "markdown",
   "metadata": {},
   "source": [
    "**Tri du DataFrame par les valeurs de la colonne `price` et réinitialisation de l'index**\n",
    "\n",
    "Nous allons trier le DataFrame par les valeurs de la colonne `price` par ordre croissant. Ensuite, nous allons réinitialiser l'index du DataFrame après le tri, en supprimant l'ancien index. Cela permettra d'avoir un DataFrame propre et ordonné, facilitant les analyses ultérieures.\n"
   ]
  },
  {
   "cell_type": "code",
   "execution_count": 70,
   "metadata": {},
   "outputs": [
    {
     "name": "stderr",
     "output_type": "stream",
     "text": [
      "C:\\Users\\Mathieu Bosse\\AppData\\Local\\Temp\\ipykernel_48632\\856730818.py:5: SettingWithCopyWarning: \n",
      "A value is trying to be set on a copy of a slice from a DataFrame\n",
      "\n",
      "See the caveats in the documentation: https://pandas.pydata.org/pandas-docs/stable/user_guide/indexing.html#returning-a-view-versus-a-copy\n",
      "  price_and_freight_value_df_for_clustering.sort_values(by='price', inplace=True)\n"
     ]
    }
   ],
   "source": [
    "# Selectionner les colonnes 'customer_unique_id', 'price', et 'freight_value' de 'orders_with_price_cleaned'\n",
    "price_and_freight_value_df_for_clustering = orders_with_price_cleaned[['customer_unique_id', 'price', 'freight_value']]\n",
    "\n",
    "# Trier le DataFrame par les valeurs de la colonne 'price' par ordre croissant\n",
    "price_and_freight_value_df_for_clustering.sort_values(by='price', inplace=True)\n",
    "\n",
    "# Réinitialiser l'index du DataFrame après le tri, en sup\n"
   ]
  },
  {
   "cell_type": "code",
   "execution_count": 71,
   "metadata": {},
   "outputs": [],
   "source": [
    "# Sauvegarder dans un fichier CSV dans le répertoire de travail actuel\n",
    "price_and_freight_value_df_for_clustering.to_csv('price_and_freight_value_df_for_clustering.csv', index=False)"
   ]
  },
  {
   "cell_type": "markdown",
   "metadata": {},
   "source": [
    "## RFM Feature Engineering"
   ]
  },
  {
   "cell_type": "markdown",
   "metadata": {},
   "source": [
    "### Calcul de la Segmentation RFM en SQL"
   ]
  },
  {
   "cell_type": "markdown",
   "metadata": {},
   "source": [
    "La segmentation RFM (Récence, Fréquence, Montant) est une méthode couramment utilisée en marketing pour analyser le comportement des clients. Cette cellule Python exécute une requête SQL pour calculer les scores RFM des clients d'Olist. Voici les détails de la requête :\n",
    "\n",
    "- **Récence**: Nombre de jours depuis la dernière commande d'un client.\n",
    "- **Fréquence**: Nombre total de commandes passées par un client.\n",
    "- **Montant**: Somme totale dépensée par un client sur toutes ses commandes.\n",
    "\n",
    "La requête SQL regroupe les données par `customer_id`, sélectionne uniquement les commandes dont le statut est 'delivered', et calcule les valeurs RFM pour chaque client. Les résultats sont ensuite chargés dans un DataFrame pandas pour une analyse ultérieure."
   ]
  },
  {
   "cell_type": "code",
   "execution_count": 72,
   "metadata": {},
   "outputs": [
    {
     "data": {
      "text/html": [
       "<div>\n",
       "<style scoped>\n",
       "    .dataframe tbody tr th:only-of-type {\n",
       "        vertical-align: middle;\n",
       "    }\n",
       "\n",
       "    .dataframe tbody tr th {\n",
       "        vertical-align: top;\n",
       "    }\n",
       "\n",
       "    .dataframe thead th {\n",
       "        text-align: right;\n",
       "    }\n",
       "</style>\n",
       "<table border=\"1\" class=\"dataframe\">\n",
       "  <thead>\n",
       "    <tr style=\"text-align: right;\">\n",
       "      <th></th>\n",
       "      <th>customer_unique_id</th>\n",
       "      <th>recency</th>\n",
       "      <th>frequency</th>\n",
       "      <th>monetary</th>\n",
       "    </tr>\n",
       "  </thead>\n",
       "  <tbody>\n",
       "    <tr>\n",
       "      <th>0</th>\n",
       "      <td>8d50f5eadf50201ccdcedfb9e2ac8455</td>\n",
       "      <td>2162.710075</td>\n",
       "      <td>15</td>\n",
       "      <td>714.63</td>\n",
       "    </tr>\n",
       "    <tr>\n",
       "      <th>1</th>\n",
       "      <td>3e43e6105506432c953e165fb2acf44c</td>\n",
       "      <td>2336.736314</td>\n",
       "      <td>9</td>\n",
       "      <td>1000.85</td>\n",
       "    </tr>\n",
       "    <tr>\n",
       "      <th>2</th>\n",
       "      <td>ca77025e7201e3b30c44b472ff346268</td>\n",
       "      <td>2243.026707</td>\n",
       "      <td>7</td>\n",
       "      <td>806.61</td>\n",
       "    </tr>\n",
       "    <tr>\n",
       "      <th>3</th>\n",
       "      <td>6469f99c1f9dfae7733b25662e7f1782</td>\n",
       "      <td>2216.481511</td>\n",
       "      <td>7</td>\n",
       "      <td>664.20</td>\n",
       "    </tr>\n",
       "    <tr>\n",
       "      <th>4</th>\n",
       "      <td>1b6c7548a2a1f9037c1fd3ddfed95f33</td>\n",
       "      <td>2349.954682</td>\n",
       "      <td>7</td>\n",
       "      <td>809.21</td>\n",
       "    </tr>\n",
       "  </tbody>\n",
       "</table>\n",
       "</div>"
      ],
      "text/plain": [
       "                 customer_unique_id      recency  frequency  monetary\n",
       "0  8d50f5eadf50201ccdcedfb9e2ac8455  2162.710075         15    714.63\n",
       "1  3e43e6105506432c953e165fb2acf44c  2336.736314          9   1000.85\n",
       "2  ca77025e7201e3b30c44b472ff346268  2243.026707          7    806.61\n",
       "3  6469f99c1f9dfae7733b25662e7f1782  2216.481511          7    664.20\n",
       "4  1b6c7548a2a1f9037c1fd3ddfed95f33  2349.954682          7    809.21"
      ]
     },
     "execution_count": 72,
     "metadata": {},
     "output_type": "execute_result"
    }
   ],
   "source": [
    "rfm = \"\"\"\n",
    "\n",
    "WITH orders_with_unique_customer_id AS (\n",
    "    SELECT\n",
    "        c.customer_unique_id,\n",
    "        o.order_purchase_timestamp,\n",
    "        o.order_id,\n",
    "        o.order_status\n",
    "    FROM\n",
    "        orders o\n",
    "    LEFT JOIN\n",
    "        customers c ON o.customer_id = c.customer_id\n",
    ")\n",
    "\n",
    "SELECT\n",
    "    o.customer_unique_id,\n",
    "    (JulianDay('now') - JulianDay(MAX(o.order_purchase_timestamp))) AS recency,\n",
    "    COUNT(DISTINCT o.order_id) AS frequency,\n",
    "    SUM(oi.price) AS monetary\n",
    "FROM\n",
    "    orders_with_unique_customer_id o\n",
    "JOIN\n",
    "    order_items oi ON o.order_id = oi.order_id\n",
    "WHERE\n",
    "    o.order_status = 'delivered'\n",
    "GROUP BY\n",
    "    o.customer_unique_id\n",
    "ORDER BY\n",
    "    frequency DESC;\n",
    "\n",
    "\"\"\"\n",
    "\n",
    "df = pd.read_sql_query(rfm, db_connection)\n",
    "df.head(5)\n"
   ]
  },
  {
   "cell_type": "markdown",
   "metadata": {},
   "source": [
    "**Détails du DataFrame RFM**\n",
    "\n",
    "Cette cellule utilise la méthode `info()` de pandas pour obtenir un résumé du DataFrame contenant les scores RFM des clients. Cela inclut des informations sur le nombre d'entrées, les noms de colonnes, les types de données, et la mémoire utilisée. Cette étape est essentielle pour vérifier que les données ont été correctement chargées et pour comprendre la structure des données avant de procéder à des analyses plus approfondies.\n"
   ]
  },
  {
   "cell_type": "code",
   "execution_count": 73,
   "metadata": {},
   "outputs": [
    {
     "name": "stdout",
     "output_type": "stream",
     "text": [
      "<class 'pandas.core.frame.DataFrame'>\n",
      "RangeIndex: 93358 entries, 0 to 93357\n",
      "Data columns (total 4 columns):\n",
      " #   Column              Non-Null Count  Dtype  \n",
      "---  ------              --------------  -----  \n",
      " 0   customer_unique_id  93358 non-null  object \n",
      " 1   recency             93358 non-null  float64\n",
      " 2   frequency           93358 non-null  int64  \n",
      " 3   monetary            93358 non-null  float64\n",
      "dtypes: float64(2), int64(1), object(1)\n",
      "memory usage: 2.8+ MB\n"
     ]
    }
   ],
   "source": [
    "df.info()"
   ]
  },
  {
   "cell_type": "markdown",
   "metadata": {},
   "source": [
    "**Sauvegarde des Données RFM**\n",
    "\n",
    "Cette cellule sauvegarde le DataFrame contenant les scores RFM dans un fichier CSV nommé `rfm.csv` dans le répertoire de travail actuel. Cela permet de conserver les résultats de l'analyse RFM pour une utilisation ou une analyse ultérieure.\n"
   ]
  },
  {
   "cell_type": "code",
   "execution_count": 74,
   "metadata": {},
   "outputs": [],
   "source": [
    "# Sauvegarder dans un fichier CSV dans le répertoire de travail actuel\n",
    "df.to_csv('rfm.csv', index=False)"
   ]
  },
  {
   "cell_type": "markdown",
   "metadata": {},
   "source": [
    "### Calcul des Données RFM avec Python"
   ]
  },
  {
   "cell_type": "markdown",
   "metadata": {},
   "source": [
    "Cette cellule utilise Python pour calculer les scores RFM (Récence, Fréquence, Montant) sur un DataFrame nettoyé. Les étapes incluent :\n",
    "\n",
    "- Conversion des colonnes de dates en format datetime.\n",
    "- Filtrage des commandes livrées.\n",
    "- Calcul des valeurs RFM :\n",
    "  - **Récence**: Nombre de jours depuis la dernière commande.\n",
    "  - **Fréquence**: Nombre total de commandes uniques.\n",
    "  - **Montant**: Somme totale dépensée.\n",
    "- Renommage des colonnes et affichage des 5 premières lignes du DataFrame.\n",
    "\n",
    "Les résultats sont ensuite sauvegardés dans un fichier CSV `rfm_python.csv`."
   ]
  },
  {
   "cell_type": "markdown",
   "metadata": {},
   "source": [
    "Utilisation de `info()` pour obtenir un aperçu des caractéristiques du DataFrame `rfm_python`."
   ]
  },
  {
   "cell_type": "code",
   "execution_count": 76,
   "metadata": {},
   "outputs": [
    {
     "name": "stderr",
     "output_type": "stream",
     "text": [
      "C:\\Users\\Mathieu Bosse\\AppData\\Local\\Temp\\ipykernel_48632\\3979418518.py:5: SettingWithCopyWarning: \n",
      "A value is trying to be set on a copy of a slice from a DataFrame.\n",
      "Try using .loc[row_indexer,col_indexer] = value instead\n",
      "\n",
      "See the caveats in the documentation: https://pandas.pydata.org/pandas-docs/stable/user_guide/indexing.html#returning-a-view-versus-a-copy\n",
      "  orders_with_price_cleaned['order_purchase_timestamp'] = pd.to_datetime(orders_with_price_cleaned['order_purchase_timestamp'])\n"
     ]
    },
    {
     "name": "stdout",
     "output_type": "stream",
     "text": [
      "Premières lignes du DataFrame fusionné et nettoyé (rfm_python) :\n"
     ]
    },
    {
     "data": {
      "text/html": [
       "<div>\n",
       "<style scoped>\n",
       "    .dataframe tbody tr th:only-of-type {\n",
       "        vertical-align: middle;\n",
       "    }\n",
       "\n",
       "    .dataframe tbody tr th {\n",
       "        vertical-align: top;\n",
       "    }\n",
       "\n",
       "    .dataframe thead th {\n",
       "        text-align: right;\n",
       "    }\n",
       "</style>\n",
       "<table border=\"1\" class=\"dataframe\">\n",
       "  <thead>\n",
       "    <tr style=\"text-align: right;\">\n",
       "      <th></th>\n",
       "      <th>customer_unique_id</th>\n",
       "      <th>recency</th>\n",
       "      <th>frequency</th>\n",
       "      <th>monetary</th>\n",
       "    </tr>\n",
       "  </thead>\n",
       "  <tbody>\n",
       "    <tr>\n",
       "      <th>0</th>\n",
       "      <td>0000366f3b9a7992bf8c76cfdf3221e2</td>\n",
       "      <td>111</td>\n",
       "      <td>1</td>\n",
       "      <td>129.90</td>\n",
       "    </tr>\n",
       "    <tr>\n",
       "      <th>1</th>\n",
       "      <td>0000b849f77a49e4a4ce2b2a4ca5be3f</td>\n",
       "      <td>114</td>\n",
       "      <td>1</td>\n",
       "      <td>18.90</td>\n",
       "    </tr>\n",
       "    <tr>\n",
       "      <th>2</th>\n",
       "      <td>0000f46a3911fa3c0805444483337064</td>\n",
       "      <td>536</td>\n",
       "      <td>1</td>\n",
       "      <td>69.00</td>\n",
       "    </tr>\n",
       "    <tr>\n",
       "      <th>3</th>\n",
       "      <td>0000f6ccb0745a6a4b88665a16c9f078</td>\n",
       "      <td>320</td>\n",
       "      <td>1</td>\n",
       "      <td>25.99</td>\n",
       "    </tr>\n",
       "    <tr>\n",
       "      <th>4</th>\n",
       "      <td>0004aac84e0df4da2b147fca70cf8255</td>\n",
       "      <td>287</td>\n",
       "      <td>1</td>\n",
       "      <td>180.00</td>\n",
       "    </tr>\n",
       "  </tbody>\n",
       "</table>\n",
       "</div>"
      ],
      "text/plain": [
       "                 customer_unique_id  recency  frequency  monetary\n",
       "0  0000366f3b9a7992bf8c76cfdf3221e2      111          1    129.90\n",
       "1  0000b849f77a49e4a4ce2b2a4ca5be3f      114          1     18.90\n",
       "2  0000f46a3911fa3c0805444483337064      536          1     69.00\n",
       "3  0000f6ccb0745a6a4b88665a16c9f078      320          1     25.99\n",
       "4  0004aac84e0df4da2b147fca70cf8255      287          1    180.00"
      ]
     },
     "metadata": {},
     "output_type": "display_data"
    },
    {
     "name": "stdout",
     "output_type": "stream",
     "text": [
      "92247\n"
     ]
    }
   ],
   "source": [
    "# On ne garde que les order dont le statut est \"delivered\"\n",
    "orders_with_price_cleaned = orders_with_price_cleaned.loc[orders_with_price_cleaned['order_status']==\"delivered\"]\n",
    "\n",
    "# Calculate RFM values\n",
    "orders_with_price_cleaned['order_purchase_timestamp'] = pd.to_datetime(orders_with_price_cleaned['order_purchase_timestamp'])\n",
    "reference_date = orders_with_price_cleaned['order_purchase_timestamp'].max()\n",
    "\n",
    "rfm_python = (\n",
    "    orders_with_price_cleaned.groupby(by=\"customer_unique_id\")\n",
    "    .agg(\n",
    "        recency=('order_purchase_timestamp', lambda x: (reference_date - x.max()).days),\n",
    "        frequency=('order_id', 'count'),\n",
    "        monetary=('price', 'sum')\n",
    "    )\n",
    "    .reset_index()\n",
    ")\n",
    "\n",
    "# Afficher les premières lignes du DataFrame fusionné\n",
    "print(\"Premières lignes du DataFrame fusionné et nettoyé (rfm_python) :\")\n",
    "display(rfm_python.head())\n",
    "\n",
    "print(len(rfm_python))\n",
    "\n",
    "rfm_python.to_csv('rfm_python.csv', index=False)"
   ]
  },
  {
   "cell_type": "code",
   "execution_count": 77,
   "metadata": {},
   "outputs": [
    {
     "name": "stdout",
     "output_type": "stream",
     "text": [
      "<class 'pandas.core.frame.DataFrame'>\n",
      "RangeIndex: 92247 entries, 0 to 92246\n",
      "Data columns (total 4 columns):\n",
      " #   Column              Non-Null Count  Dtype  \n",
      "---  ------              --------------  -----  \n",
      " 0   customer_unique_id  92247 non-null  object \n",
      " 1   recency             92247 non-null  int64  \n",
      " 2   frequency           92247 non-null  int64  \n",
      " 3   monetary            92247 non-null  float64\n",
      "dtypes: float64(1), int64(2), object(1)\n",
      "memory usage: 2.8+ MB\n"
     ]
    }
   ],
   "source": [
    "rfm_python.info()"
   ]
  },
  {
   "cell_type": "markdown",
   "metadata": {},
   "source": [
    "### Sélection de la variable review_score pour l'Analyse RFM avec Variable Numérique"
   ]
  },
  {
   "cell_type": "markdown",
   "metadata": {},
   "source": [
    "Cette cellule calcule la moyenne des scores d'avis pour chaque client afin d'ajouter une variable numérique pour une analyse future avec k-means en complément des données RFM. Les étapes incluent :\n",
    "\n",
    "- Calcul de la moyenne des scores d'avis par client.\n",
    "- Renommage des colonnes.\n",
    "- Affichage des premières lignes du DataFrame.\n",
    "- Sauvegarde du DataFrame dans un fichier CSV pour une utilisation ultérieure.\n"
   ]
  },
  {
   "cell_type": "code",
   "execution_count": 92,
   "metadata": {},
   "outputs": [
    {
     "data": {
      "text/html": [
       "<div>\n",
       "<style scoped>\n",
       "    .dataframe tbody tr th:only-of-type {\n",
       "        vertical-align: middle;\n",
       "    }\n",
       "\n",
       "    .dataframe tbody tr th {\n",
       "        vertical-align: top;\n",
       "    }\n",
       "\n",
       "    .dataframe thead th {\n",
       "        text-align: right;\n",
       "    }\n",
       "</style>\n",
       "<table border=\"1\" class=\"dataframe\">\n",
       "  <thead>\n",
       "    <tr style=\"text-align: right;\">\n",
       "      <th></th>\n",
       "      <th>customer_unique_id</th>\n",
       "      <th>review_score</th>\n",
       "    </tr>\n",
       "  </thead>\n",
       "  <tbody>\n",
       "    <tr>\n",
       "      <th>0</th>\n",
       "      <td>0000366f3b9a7992bf8c76cfdf3221e2</td>\n",
       "      <td>5.0</td>\n",
       "    </tr>\n",
       "    <tr>\n",
       "      <th>1</th>\n",
       "      <td>0000b849f77a49e4a4ce2b2a4ca5be3f</td>\n",
       "      <td>4.0</td>\n",
       "    </tr>\n",
       "    <tr>\n",
       "      <th>2</th>\n",
       "      <td>0000f46a3911fa3c0805444483337064</td>\n",
       "      <td>3.0</td>\n",
       "    </tr>\n",
       "    <tr>\n",
       "      <th>3</th>\n",
       "      <td>0000f6ccb0745a6a4b88665a16c9f078</td>\n",
       "      <td>4.0</td>\n",
       "    </tr>\n",
       "    <tr>\n",
       "      <th>4</th>\n",
       "      <td>0004aac84e0df4da2b147fca70cf8255</td>\n",
       "      <td>5.0</td>\n",
       "    </tr>\n",
       "    <tr>\n",
       "      <th>...</th>\n",
       "      <td>...</td>\n",
       "      <td>...</td>\n",
       "    </tr>\n",
       "    <tr>\n",
       "      <th>95375</th>\n",
       "      <td>fffcf5a5ff07b0908bd4e2dbc735a684</td>\n",
       "      <td>5.0</td>\n",
       "    </tr>\n",
       "    <tr>\n",
       "      <th>95376</th>\n",
       "      <td>fffea47cd6d3cc0a88bd621562a9d061</td>\n",
       "      <td>4.0</td>\n",
       "    </tr>\n",
       "    <tr>\n",
       "      <th>95377</th>\n",
       "      <td>ffff371b4d645b6ecea244b27531430a</td>\n",
       "      <td>5.0</td>\n",
       "    </tr>\n",
       "    <tr>\n",
       "      <th>95378</th>\n",
       "      <td>ffff5962728ec6157033ef9805bacc48</td>\n",
       "      <td>5.0</td>\n",
       "    </tr>\n",
       "    <tr>\n",
       "      <th>95379</th>\n",
       "      <td>ffffd2657e2aad2907e67c3e9daecbeb</td>\n",
       "      <td>5.0</td>\n",
       "    </tr>\n",
       "  </tbody>\n",
       "</table>\n",
       "<p>95380 rows × 2 columns</p>\n",
       "</div>"
      ],
      "text/plain": [
       "                     customer_unique_id  review_score\n",
       "0      0000366f3b9a7992bf8c76cfdf3221e2           5.0\n",
       "1      0000b849f77a49e4a4ce2b2a4ca5be3f           4.0\n",
       "2      0000f46a3911fa3c0805444483337064           3.0\n",
       "3      0000f6ccb0745a6a4b88665a16c9f078           4.0\n",
       "4      0004aac84e0df4da2b147fca70cf8255           5.0\n",
       "...                                 ...           ...\n",
       "95375  fffcf5a5ff07b0908bd4e2dbc735a684           5.0\n",
       "95376  fffea47cd6d3cc0a88bd621562a9d061           4.0\n",
       "95377  ffff371b4d645b6ecea244b27531430a           5.0\n",
       "95378  ffff5962728ec6157033ef9805bacc48           5.0\n",
       "95379  ffffd2657e2aad2907e67c3e9daecbeb           5.0\n",
       "\n",
       "[95380 rows x 2 columns]"
      ]
     },
     "metadata": {},
     "output_type": "display_data"
    }
   ],
   "source": [
    "# Calcul review score moyen\n",
    "orders_with_review_score = orders_with_review_score.drop_duplicates(subset=[\"order_id\"])\n",
    "\n",
    "customer_unique_id_with_average_review_score_df = (\n",
    "    orders_with_review_score.groupby(by=\"customer_unique_id\")\n",
    "    .agg({'review_score':'mean'})\n",
    "    .reset_index()\n",
    ")\n",
    "\n",
    "customer_unique_id_with_average_review_score_df.to_csv(\"average_review_scores_df.csv\", index=False)\n",
    "\n",
    "display(customer_unique_id_with_average_review_score_df)"
   ]
  },
  {
   "cell_type": "markdown",
   "metadata": {},
   "source": [
    "Ici, filtrage les données du DataFrame `average_review_scores_df` pour ne conserver que les informations relatives au client ayant l'identifiant `270c23a11d024a44c896d1894b261a83`. Cette étape est cruciale pour vérifier la cohérence et l'intégrité des données spécifiques à chaque client, y compris les scores RFM et la moyenne des scores d'avis.\n"
   ]
  },
  {
   "cell_type": "markdown",
   "metadata": {},
   "source": [
    "### Sélection de la colonne customer_state pour l'Analyse RFM avec Variable Catégorielle"
   ]
  },
  {
   "cell_type": "markdown",
   "metadata": {},
   "source": [
    "Sélection de la colonne 'customer_state' dans le DataFrame `orders_merged_cleaned` pour une analyse future avec k-means, intégrant une variable catégorielle supplémentaire en plus des scores RFM."
   ]
  },
  {
   "cell_type": "code",
   "execution_count": null,
   "metadata": {},
   "outputs": [
    {
     "data": {
      "text/html": [
       "<div>\n",
       "<style scoped>\n",
       "    .dataframe tbody tr th:only-of-type {\n",
       "        vertical-align: middle;\n",
       "    }\n",
       "\n",
       "    .dataframe tbody tr th {\n",
       "        vertical-align: top;\n",
       "    }\n",
       "\n",
       "    .dataframe thead th {\n",
       "        text-align: right;\n",
       "    }\n",
       "</style>\n",
       "<table border=\"1\" class=\"dataframe\">\n",
       "  <thead>\n",
       "    <tr style=\"text-align: right;\">\n",
       "      <th></th>\n",
       "      <th>customer_id</th>\n",
       "      <th>customer_state</th>\n",
       "    </tr>\n",
       "  </thead>\n",
       "  <tbody>\n",
       "    <tr>\n",
       "      <th>0</th>\n",
       "      <td>161b6d415e8b3413c6609c70cf405b5a</td>\n",
       "      <td>SP</td>\n",
       "    </tr>\n",
       "    <tr>\n",
       "      <th>1</th>\n",
       "      <td>5af78bf1a82a2660d1e3fd78c645f58f</td>\n",
       "      <td>SP</td>\n",
       "    </tr>\n",
       "    <tr>\n",
       "      <th>2</th>\n",
       "      <td>9f9d249355f63c5c1216a82b802452c1</td>\n",
       "      <td>RJ</td>\n",
       "    </tr>\n",
       "    <tr>\n",
       "      <th>3</th>\n",
       "      <td>fc3d1daec319d62d49bfb5e1f83123e9</td>\n",
       "      <td>SP</td>\n",
       "    </tr>\n",
       "    <tr>\n",
       "      <th>4</th>\n",
       "      <td>fc3d1daec319d62d49bfb5e1f83123e9</td>\n",
       "      <td>SP</td>\n",
       "    </tr>\n",
       "  </tbody>\n",
       "</table>\n",
       "</div>"
      ],
      "text/plain": [
       "                        customer_id customer_state\n",
       "0  161b6d415e8b3413c6609c70cf405b5a             SP\n",
       "1  5af78bf1a82a2660d1e3fd78c645f58f             SP\n",
       "2  9f9d249355f63c5c1216a82b802452c1             RJ\n",
       "3  fc3d1daec319d62d49bfb5e1f83123e9             SP\n",
       "4  fc3d1daec319d62d49bfb5e1f83123e9             SP"
      ]
     },
     "metadata": {},
     "output_type": "display_data"
    }
   ],
   "source": [
    "# Sélectionner les colonnes 'customer_id' et 'customer_state' dans orders_merged_cleaned\n",
    "customer_state_df = orders_merged_cleaned[['customer_unique_id', 'customer_state']]\n",
    "\n",
    "# Afficher les premières lignes du DataFrame résultant\n",
    "display(customer_state_df.head())\n",
    "\n",
    "customer_state_df.to_csv(\"customer_state_df.csv\", index=False)"
   ]
  },
  {
   "cell_type": "code",
   "execution_count": 84,
   "metadata": {},
   "outputs": [
    {
     "data": {
      "text/html": [
       "<div>\n",
       "<style scoped>\n",
       "    .dataframe tbody tr th:only-of-type {\n",
       "        vertical-align: middle;\n",
       "    }\n",
       "\n",
       "    .dataframe tbody tr th {\n",
       "        vertical-align: top;\n",
       "    }\n",
       "\n",
       "    .dataframe thead th {\n",
       "        text-align: right;\n",
       "    }\n",
       "</style>\n",
       "<table border=\"1\" class=\"dataframe\">\n",
       "  <thead>\n",
       "    <tr style=\"text-align: right;\">\n",
       "      <th></th>\n",
       "      <th>customer_unique_id</th>\n",
       "      <th>customer_state</th>\n",
       "    </tr>\n",
       "  </thead>\n",
       "  <tbody>\n",
       "    <tr>\n",
       "      <th>0</th>\n",
       "      <td>f006d7920bd71c252f61ec355eb50dcb</td>\n",
       "      <td>SP</td>\n",
       "    </tr>\n",
       "    <tr>\n",
       "      <th>1</th>\n",
       "      <td>d80730c15c647bc8f2ad77c908ba5ca9</td>\n",
       "      <td>SP</td>\n",
       "    </tr>\n",
       "    <tr>\n",
       "      <th>2</th>\n",
       "      <td>b38211bd797f4fdd81a98b9d1754b606</td>\n",
       "      <td>RJ</td>\n",
       "    </tr>\n",
       "    <tr>\n",
       "      <th>3</th>\n",
       "      <td>4546caea018ad8c692964e3382debd19</td>\n",
       "      <td>SP</td>\n",
       "    </tr>\n",
       "    <tr>\n",
       "      <th>23</th>\n",
       "      <td>317cfc692e3f86c45c95697c61c853a6</td>\n",
       "      <td>SP</td>\n",
       "    </tr>\n",
       "    <tr>\n",
       "      <th>...</th>\n",
       "      <td>...</td>\n",
       "      <td>...</td>\n",
       "    </tr>\n",
       "    <tr>\n",
       "      <th>111410</th>\n",
       "      <td>45d4fbed807eacc8d7d5b99247a16a55</td>\n",
       "      <td>MG</td>\n",
       "    </tr>\n",
       "    <tr>\n",
       "      <th>111411</th>\n",
       "      <td>c1af67e73acdb33638179ec6cb0fbd3c</td>\n",
       "      <td>RJ</td>\n",
       "    </tr>\n",
       "    <tr>\n",
       "      <th>111414</th>\n",
       "      <td>9835d36e16d2102ba67f493776a52e96</td>\n",
       "      <td>GO</td>\n",
       "    </tr>\n",
       "    <tr>\n",
       "      <th>111415</th>\n",
       "      <td>4fdc62ec0c92703fde661756400e686d</td>\n",
       "      <td>MG</td>\n",
       "    </tr>\n",
       "    <tr>\n",
       "      <th>111416</th>\n",
       "      <td>28a14fa019f261a7bddfc820dae8d616</td>\n",
       "      <td>MG</td>\n",
       "    </tr>\n",
       "  </tbody>\n",
       "</table>\n",
       "<p>92284 rows × 2 columns</p>\n",
       "</div>"
      ],
      "text/plain": [
       "                      customer_unique_id customer_state\n",
       "0       f006d7920bd71c252f61ec355eb50dcb             SP\n",
       "1       d80730c15c647bc8f2ad77c908ba5ca9             SP\n",
       "2       b38211bd797f4fdd81a98b9d1754b606             RJ\n",
       "3       4546caea018ad8c692964e3382debd19             SP\n",
       "23      317cfc692e3f86c45c95697c61c853a6             SP\n",
       "...                                  ...            ...\n",
       "111410  45d4fbed807eacc8d7d5b99247a16a55             MG\n",
       "111411  c1af67e73acdb33638179ec6cb0fbd3c             RJ\n",
       "111414  9835d36e16d2102ba67f493776a52e96             GO\n",
       "111415  4fdc62ec0c92703fde661756400e686d             MG\n",
       "111416  28a14fa019f261a7bddfc820dae8d616             MG\n",
       "\n",
       "[92284 rows x 2 columns]"
      ]
     },
     "execution_count": 84,
     "metadata": {},
     "output_type": "execute_result"
    }
   ],
   "source": [
    "# Sélectionner les colonnes 'customer_id' et 'customer_state' dans orders_merged_cleaned\n",
    "customers_state_df = orders_with_price_cleaned[['customer_unique_id', 'customer_state']]\n",
    "\n",
    "customers_state_df = customers_state_df.drop_duplicates()\n",
    "\n",
    "customers_state_df"
   ]
  },
  {
   "cell_type": "code",
   "execution_count": 86,
   "metadata": {},
   "outputs": [
    {
     "data": {
      "text/plain": [
       "customer_unique_id    92247\n",
       "customer_state           27\n",
       "dtype: int64"
      ]
     },
     "execution_count": 86,
     "metadata": {},
     "output_type": "execute_result"
    }
   ],
   "source": [
    "customers_state_df.nunique()"
   ]
  },
  {
   "cell_type": "code",
   "execution_count": 87,
   "metadata": {},
   "outputs": [
    {
     "name": "stdout",
     "output_type": "stream",
     "text": [
      "Number of customer_unique_id with more than one distinct customer_state: 36\n"
     ]
    }
   ],
   "source": [
    "# Group by 'customer_unique_id' and count unique 'customer_state' values\n",
    "state_counts = customers_state_df.groupby('customer_unique_id')['customer_state'].nunique()\n",
    "\n",
    "# Filter to include only those with more than one distinct 'customer_state'\n",
    "multiple_states = state_counts[state_counts > 1]\n",
    "\n",
    "# Get the number of customer_unique_id with more than one distinct customer_state\n",
    "num_customers_multiple_states = multiple_states.count()\n",
    "\n",
    "# Print the result\n",
    "print(f\"Number of customer_unique_id with more than one distinct customer_state: {num_customers_multiple_states}\")"
   ]
  },
  {
   "cell_type": "code",
   "execution_count": 91,
   "metadata": {},
   "outputs": [
    {
     "data": {
      "text/html": [
       "<div>\n",
       "<style scoped>\n",
       "    .dataframe tbody tr th:only-of-type {\n",
       "        vertical-align: middle;\n",
       "    }\n",
       "\n",
       "    .dataframe tbody tr th {\n",
       "        vertical-align: top;\n",
       "    }\n",
       "\n",
       "    .dataframe thead th {\n",
       "        text-align: right;\n",
       "    }\n",
       "</style>\n",
       "<table border=\"1\" class=\"dataframe\">\n",
       "  <thead>\n",
       "    <tr style=\"text-align: right;\">\n",
       "      <th></th>\n",
       "      <th>customer_unique_id</th>\n",
       "      <th>customer_state</th>\n",
       "    </tr>\n",
       "  </thead>\n",
       "  <tbody>\n",
       "    <tr>\n",
       "      <th>0</th>\n",
       "      <td>0000366f3b9a7992bf8c76cfdf3221e2</td>\n",
       "      <td>SP</td>\n",
       "    </tr>\n",
       "    <tr>\n",
       "      <th>1</th>\n",
       "      <td>0000b849f77a49e4a4ce2b2a4ca5be3f</td>\n",
       "      <td>SP</td>\n",
       "    </tr>\n",
       "    <tr>\n",
       "      <th>2</th>\n",
       "      <td>0000f46a3911fa3c0805444483337064</td>\n",
       "      <td>SC</td>\n",
       "    </tr>\n",
       "    <tr>\n",
       "      <th>3</th>\n",
       "      <td>0000f6ccb0745a6a4b88665a16c9f078</td>\n",
       "      <td>PA</td>\n",
       "    </tr>\n",
       "    <tr>\n",
       "      <th>4</th>\n",
       "      <td>0004aac84e0df4da2b147fca70cf8255</td>\n",
       "      <td>SP</td>\n",
       "    </tr>\n",
       "    <tr>\n",
       "      <th>...</th>\n",
       "      <td>...</td>\n",
       "      <td>...</td>\n",
       "    </tr>\n",
       "    <tr>\n",
       "      <th>92242</th>\n",
       "      <td>fffcf5a5ff07b0908bd4e2dbc735a684</td>\n",
       "      <td>PE</td>\n",
       "    </tr>\n",
       "    <tr>\n",
       "      <th>92243</th>\n",
       "      <td>fffea47cd6d3cc0a88bd621562a9d061</td>\n",
       "      <td>BA</td>\n",
       "    </tr>\n",
       "    <tr>\n",
       "      <th>92244</th>\n",
       "      <td>ffff371b4d645b6ecea244b27531430a</td>\n",
       "      <td>MT</td>\n",
       "    </tr>\n",
       "    <tr>\n",
       "      <th>92245</th>\n",
       "      <td>ffff5962728ec6157033ef9805bacc48</td>\n",
       "      <td>ES</td>\n",
       "    </tr>\n",
       "    <tr>\n",
       "      <th>92246</th>\n",
       "      <td>ffffd2657e2aad2907e67c3e9daecbeb</td>\n",
       "      <td>PR</td>\n",
       "    </tr>\n",
       "  </tbody>\n",
       "</table>\n",
       "<p>92247 rows × 2 columns</p>\n",
       "</div>"
      ],
      "text/plain": [
       "                     customer_unique_id customer_state\n",
       "0      0000366f3b9a7992bf8c76cfdf3221e2             SP\n",
       "1      0000b849f77a49e4a4ce2b2a4ca5be3f             SP\n",
       "2      0000f46a3911fa3c0805444483337064             SC\n",
       "3      0000f6ccb0745a6a4b88665a16c9f078             PA\n",
       "4      0004aac84e0df4da2b147fca70cf8255             SP\n",
       "...                                 ...            ...\n",
       "92242  fffcf5a5ff07b0908bd4e2dbc735a684             PE\n",
       "92243  fffea47cd6d3cc0a88bd621562a9d061             BA\n",
       "92244  ffff371b4d645b6ecea244b27531430a             MT\n",
       "92245  ffff5962728ec6157033ef9805bacc48             ES\n",
       "92246  ffffd2657e2aad2907e67c3e9daecbeb             PR\n",
       "\n",
       "[92247 rows x 2 columns]"
      ]
     },
     "metadata": {},
     "output_type": "display_data"
    }
   ],
   "source": [
    "# Sort the DataFrame by customer_unique_id to maintain order (if needed)\n",
    "customers_state_df.sort_values(by='customer_unique_id', inplace=True)\n",
    "\n",
    "# Group by 'customer_unique_id' and get the first 'customer_state' for each\n",
    "first_state_df = customers_state_df.groupby('customer_unique_id').first().reset_index()\n",
    "\n",
    "display(first_state_df)\n",
    "\n",
    "first_state_df.to_csv(\"customer_state_df.csv\", index=False)"
   ]
  }
 ],
 "metadata": {
  "kernelspec": {
   "display_name": "Python 3",
   "language": "python",
   "name": "python3"
  },
  "language_info": {
   "codemirror_mode": {
    "name": "ipython",
    "version": 3
   },
   "file_extension": ".py",
   "mimetype": "text/x-python",
   "name": "python",
   "nbconvert_exporter": "python",
   "pygments_lexer": "ipython3",
   "version": "3.12.0"
  }
 },
 "nbformat": 4,
 "nbformat_minor": 2
}
