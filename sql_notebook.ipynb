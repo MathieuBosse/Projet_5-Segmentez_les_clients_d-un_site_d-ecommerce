{
 "cells": [
  {
   "cell_type": "code",
   "execution_count": 13,
   "metadata": {},
   "outputs": [],
   "source": [
    "import pandas as pd\n",
    "import sqlite3\n",
    "###\n",
    "# Connexion à la base de données SQLite\n",
    "conn = sqlite3.connect('olist.db')"
   ]
  },
  {
   "cell_type": "code",
   "execution_count": 14,
   "metadata": {},
   "outputs": [],
   "source": [
    "import pandas as pd\n",
    "\n",
    "def view_table(table, limit):\n",
    "    query = f\"\"\"\n",
    "        SELECT *\n",
    "        FROM {table}\n",
    "        LIMIT {limit}\n",
    "    \"\"\"\n",
    "    return pd.read_query(query, conn)"
   ]
  },
  {
   "cell_type": "code",
   "execution_count": 15,
   "metadata": {},
   "outputs": [
    {
     "ename": "AttributeError",
     "evalue": "module 'pandas' has no attribute 'read_query'",
     "output_type": "error",
     "traceback": [
      "\u001b[1;31m---------------------------------------------------------------------------\u001b[0m",
      "\u001b[1;31mAttributeError\u001b[0m                            Traceback (most recent call last)",
      "\u001b[1;32mc:\\Users\\Mathieu Bosse\\Documents\\OpenClassRooms\\Projet_5_OCR\\oc_projet_5\\sql_notebook.ipynb Cell 3\u001b[0m line \u001b[0;36m2\n\u001b[0;32m      <a href='vscode-notebook-cell:/c%3A/Users/Mathieu%20Bosse/Documents/OpenClassRooms/Projet_5_OCR/oc_projet_5/sql_notebook.ipynb#X10sZmlsZQ%3D%3D?line=0'>1</a>\u001b[0m \u001b[39m# Table orders, first 3 columns\u001b[39;00m\n\u001b[1;32m----> <a href='vscode-notebook-cell:/c%3A/Users/Mathieu%20Bosse/Documents/OpenClassRooms/Projet_5_OCR/oc_projet_5/sql_notebook.ipynb#X10sZmlsZQ%3D%3D?line=1'>2</a>\u001b[0m view_table(\u001b[39m'\u001b[39;49m\u001b[39morders\u001b[39;49m\u001b[39m'\u001b[39;49m, \u001b[39m5\u001b[39;49m)\n",
      "\u001b[1;32mc:\\Users\\Mathieu Bosse\\Documents\\OpenClassRooms\\Projet_5_OCR\\oc_projet_5\\sql_notebook.ipynb Cell 3\u001b[0m line \u001b[0;36m9\n\u001b[0;32m      <a href='vscode-notebook-cell:/c%3A/Users/Mathieu%20Bosse/Documents/OpenClassRooms/Projet_5_OCR/oc_projet_5/sql_notebook.ipynb#X10sZmlsZQ%3D%3D?line=2'>3</a>\u001b[0m \u001b[39mdef\u001b[39;00m \u001b[39mview_table\u001b[39m(table, limit):\n\u001b[0;32m      <a href='vscode-notebook-cell:/c%3A/Users/Mathieu%20Bosse/Documents/OpenClassRooms/Projet_5_OCR/oc_projet_5/sql_notebook.ipynb#X10sZmlsZQ%3D%3D?line=3'>4</a>\u001b[0m     query \u001b[39m=\u001b[39m \u001b[39mf\u001b[39m\u001b[39m\"\"\"\u001b[39m\n\u001b[0;32m      <a href='vscode-notebook-cell:/c%3A/Users/Mathieu%20Bosse/Documents/OpenClassRooms/Projet_5_OCR/oc_projet_5/sql_notebook.ipynb#X10sZmlsZQ%3D%3D?line=4'>5</a>\u001b[0m \u001b[39m        SELECT *\u001b[39m\n\u001b[0;32m      <a href='vscode-notebook-cell:/c%3A/Users/Mathieu%20Bosse/Documents/OpenClassRooms/Projet_5_OCR/oc_projet_5/sql_notebook.ipynb#X10sZmlsZQ%3D%3D?line=5'>6</a>\u001b[0m \u001b[39m        FROM \u001b[39m\u001b[39m{\u001b[39;00mtable\u001b[39m}\u001b[39;00m\n\u001b[0;32m      <a href='vscode-notebook-cell:/c%3A/Users/Mathieu%20Bosse/Documents/OpenClassRooms/Projet_5_OCR/oc_projet_5/sql_notebook.ipynb#X10sZmlsZQ%3D%3D?line=6'>7</a>\u001b[0m \u001b[39m        LIMIT \u001b[39m\u001b[39m{\u001b[39;00mlimit\u001b[39m}\u001b[39;00m\n\u001b[0;32m      <a href='vscode-notebook-cell:/c%3A/Users/Mathieu%20Bosse/Documents/OpenClassRooms/Projet_5_OCR/oc_projet_5/sql_notebook.ipynb#X10sZmlsZQ%3D%3D?line=7'>8</a>\u001b[0m \u001b[39m    \u001b[39m\u001b[39m\"\"\"\u001b[39m\n\u001b[1;32m----> <a href='vscode-notebook-cell:/c%3A/Users/Mathieu%20Bosse/Documents/OpenClassRooms/Projet_5_OCR/oc_projet_5/sql_notebook.ipynb#X10sZmlsZQ%3D%3D?line=8'>9</a>\u001b[0m     \u001b[39mreturn\u001b[39;00m pd\u001b[39m.\u001b[39;49mread_query(query, conn)\n",
      "\u001b[1;31mAttributeError\u001b[0m: module 'pandas' has no attribute 'read_query'"
     ]
    }
   ],
   "source": [
    "# Table orders, first 3 columns\n",
    "view_table('orders', 5)"
   ]
  },
  {
   "cell_type": "code",
   "execution_count": null,
   "metadata": {},
   "outputs": [
    {
     "ename": "NameError",
     "evalue": "name 'read_query' is not defined",
     "output_type": "error",
     "traceback": [
      "\u001b[1;31m---------------------------------------------------------------------------\u001b[0m",
      "\u001b[1;31mNameError\u001b[0m                                 Traceback (most recent call last)",
      "\u001b[1;32mc:\\Users\\Mathieu Bosse\\Documents\\OpenClassRooms\\Projet_5_OCR\\oc_projet_5\\sql_notebook.ipynb Cell 4\u001b[0m line \u001b[0;36m4\n\u001b[0;32m      <a href='vscode-notebook-cell:/c%3A/Users/Mathieu%20Bosse/Documents/OpenClassRooms/Projet_5_OCR/oc_projet_5/sql_notebook.ipynb#W2sZmlsZQ%3D%3D?line=0'>1</a>\u001b[0m \u001b[39m### Première requête\u001b[39;00m\n\u001b[0;32m      <a href='vscode-notebook-cell:/c%3A/Users/Mathieu%20Bosse/Documents/OpenClassRooms/Projet_5_OCR/oc_projet_5/sql_notebook.ipynb#W2sZmlsZQ%3D%3D?line=1'>2</a>\u001b[0m \n\u001b[0;32m      <a href='vscode-notebook-cell:/c%3A/Users/Mathieu%20Bosse/Documents/OpenClassRooms/Projet_5_OCR/oc_projet_5/sql_notebook.ipynb#W2sZmlsZQ%3D%3D?line=2'>3</a>\u001b[0m \u001b[39m# Lire et exécuter une requête SQL à partir d'un fichier\u001b[39;00m\n\u001b[1;32m----> <a href='vscode-notebook-cell:/c%3A/Users/Mathieu%20Bosse/Documents/OpenClassRooms/Projet_5_OCR/oc_projet_5/sql_notebook.ipynb#W2sZmlsZQ%3D%3D?line=3'>4</a>\u001b[0m query \u001b[39m=\u001b[39m read_query(\u001b[39m'\u001b[39m\u001b[39mfirst_request.sql\u001b[39m\u001b[39m'\u001b[39m)\n\u001b[0;32m      <a href='vscode-notebook-cell:/c%3A/Users/Mathieu%20Bosse/Documents/OpenClassRooms/Projet_5_OCR/oc_projet_5/sql_notebook.ipynb#W2sZmlsZQ%3D%3D?line=5'>6</a>\u001b[0m \u001b[39m# Exécuter la requête et charger le résultat dans un DataFrame pandas\u001b[39;00m\n\u001b[0;32m      <a href='vscode-notebook-cell:/c%3A/Users/Mathieu%20Bosse/Documents/OpenClassRooms/Projet_5_OCR/oc_projet_5/sql_notebook.ipynb#W2sZmlsZQ%3D%3D?line=6'>7</a>\u001b[0m df \u001b[39m=\u001b[39m pd\u001b[39m.\u001b[39mread_sql_query(query, conn)\n",
      "\u001b[1;31mNameError\u001b[0m: name 'read_query' is not defined"
     ]
    }
   ],
   "source": [
    "### Première requête\n",
    "\n",
    "# Lire et exécuter une requête SQL à partir d'un fichier\n",
    "query = read_query('first_request.sql')\n",
    "\n",
    "# Exécuter la requête et charger le résultat dans un DataFrame pandas\n",
    "df = pd.read_sql_query(query, conn)\n",
    "\n",
    "# Afficher le DataFrame\n",
    "print(df)"
   ]
  },
  {
   "cell_type": "code",
   "execution_count": null,
   "metadata": {},
   "outputs": [
    {
     "name": "stdout",
     "output_type": "stream",
     "text": [
      "  MAX(DATETIME(order_purchase_timestamp))\n",
      "0                     2018-10-17 17:30:18\n"
     ]
    }
   ],
   "source": [
    "query = \"\"\"\n",
    "SELECT\n",
    "    MAX(DATETIME(order_purchase_timestamp))\n",
    "FROM\n",
    "    orders\n",
    "\n",
    "\"\"\"\n",
    "df = pd.read_sql_query(query, conn)\n",
    "print(df)"
   ]
  },
  {
   "cell_type": "code",
   "execution_count": null,
   "metadata": {},
   "outputs": [
    {
     "name": "stdout",
     "output_type": "stream",
     "text": [
      "                           seller_id  total_revenue_seller\n",
      "0   1025f0e2d44d7041d6cf58b6550e0bfa             138208.56\n",
      "1   1f50f920176fa81dab994f9023523100             106655.71\n",
      "2   46dc3b2cc0980fb8ec44634e21d2718e             122811.38\n",
      "3   4869f7a5dfa277a7dca6462dcf3b52b2             226987.93\n",
      "4   4a3ca9315b744ce9f8e9374361493884             196882.12\n",
      "5   53243585a1d6dc2643021fd1853d8905             217940.44\n",
      "6   5dceca129747e92ff8ef7a997dc4f8ca             111126.73\n",
      "7   620c87c171fb2a6dd6e8bb4dec959fc6             112461.50\n",
      "8   6560211a19b47992c3666cc44a7e94c0             120702.83\n",
      "9   7a67c85e85bb2ce8582c35f2203ad736             139658.69\n",
      "10  7c67e1448b00f6e969d365cea6b010ab             186570.05\n",
      "11  7d13fca15225358621be4086e1eb0964             112436.18\n",
      "12  7e93a43ef30c4f03f38b393420bc753a             165981.49\n",
      "13  955fee9216a65b617aa5c0531780ce60             131836.71\n",
      "14  cc419e0650a3c5ba77189a1882b7556a             101090.96\n",
      "15  da8622b14eb17ae2831f4ac5b9dab84a             159816.87\n",
      "16  fa1c13f2614d7b5c4749cbc52fecda94             190917.14\n"
     ]
    }
   ],
   "source": [
    "### Seconde requête\n",
    "\n",
    "# Lire et exécuter une requête SQL à partir d'un fichier\n",
    "query = read_query('second_request.sql')\n",
    "\n",
    "# Exécuter la requête et charger le résultat dans un DataFrame pandas\n",
    "df = pd.read_sql_query(query, conn)\n",
    "\n",
    "# Afficher le DataFrame\n",
    "print(df)"
   ]
  },
  {
   "cell_type": "code",
   "execution_count": null,
   "metadata": {},
   "outputs": [],
   "source": [
    "### Troisième requête\n",
    "\n",
    "# Lire et exécuter une requête SQL à partir d'un fichier\n",
    "query = read_query('third_request.sql')\n",
    "\n",
    "# Exécuter la requête et charger le résultat dans un DataFrame pandas\n",
    "df = pd.read_sql_query(query, conn)\n",
    "\n",
    "# Afficher le DataFrame\n",
    "print(df)"
   ]
  },
  {
   "cell_type": "code",
   "execution_count": null,
   "metadata": {},
   "outputs": [
    {
     "name": "stdout",
     "output_type": "stream",
     "text": [
      "   customer_zip_code_prefix  total_orders_by_zip_code  average_review_score\n",
      "0                     18900                        34              4.794118\n",
      "1                     15910                        32              4.687500\n",
      "2                     12242                        32              4.687500\n",
      "3                     80030                        35              4.685714\n",
      "4                     13500                        33              4.636364\n"
     ]
    }
   ],
   "source": [
    "### Quatrième requête\n",
    "\n",
    "# Lire et exécuter une requête SQL à partir d'un fichier\n",
    "query = read_query('fourth_request.sql')\n",
    "\n",
    "# Exécuter la requête et charger le résultat dans un DataFrame pandas\n",
    "df = pd.read_sql_query(query, conn)\n",
    "\n",
    "# Afficher le DataFrame\n",
    "print(df)"
   ]
  }
 ],
 "metadata": {
  "kernelspec": {
   "display_name": "Python 3",
   "language": "python",
   "name": "python3"
  },
  "language_info": {
   "codemirror_mode": {
    "name": "ipython",
    "version": 3
   },
   "file_extension": ".py",
   "mimetype": "text/x-python",
   "name": "python",
   "nbconvert_exporter": "python",
   "pygments_lexer": "ipython3",
   "version": "3.12.0"
  }
 },
 "nbformat": 4,
 "nbformat_minor": 2
}
